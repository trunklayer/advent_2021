{
 "cells": [
  {
   "cell_type": "markdown",
   "metadata": {},
   "source": [
    "# Day 7"
   ]
  },
  {
   "cell_type": "code",
   "execution_count": 1,
   "metadata": {},
   "outputs": [
    {
     "name": "stdout",
     "output_type": "stream",
     "text": [
      "(363, 341534)\n"
     ]
    }
   ],
   "source": [
    "def align(positions, target):\n",
    "    return sum(abs(target - position) for position in positions)\n",
    "\n",
    "def align_optimal(positions):\n",
    "    results = {\n",
    "        align(positions, i): i\n",
    "        for i in range(min(positions), max(positions) + 1)\n",
    "    }\n",
    "    optimal_fuel = min(results)\n",
    "    return results[optimal_fuel], optimal_fuel\n",
    "\n",
    "with open('day7.txt', 'r') as f:\n",
    "    positions = [int(el) for el in f.read().strip().split(',')]\n",
    "\n",
    "print(align_optimal(positions))"
   ]
  },
  {
   "cell_type": "code",
   "execution_count": 2,
   "metadata": {},
   "outputs": [
    {
     "name": "stdout",
     "output_type": "stream",
     "text": [
      "(484, 93397632)\n"
     ]
    }
   ],
   "source": [
    "def align(positions, target):\n",
    "    return sum(abs(target - position) * (1 + abs(target - position)) // 2 for position in positions)\n",
    "\n",
    "def align_optimal(positions):\n",
    "    results = {\n",
    "        align(positions, i): i\n",
    "        for i in range(min(positions), max(positions) + 1)\n",
    "    }\n",
    "    optimal_fuel = min(results)\n",
    "    return results[optimal_fuel], optimal_fuel\n",
    "\n",
    "with open('day7.txt', 'r') as f:\n",
    "    positions = [int(el) for el in f.read().strip().split(',')]\n",
    "\n",
    "print(align_optimal(positions))"
   ]
  }
 ],
 "metadata": {
  "interpreter": {
   "hash": "0b6ea5cf3e2da3c7841276324063e181e5e9dff87f4d073f77c688a5b383f5e2"
  },
  "kernelspec": {
   "display_name": "Python 3.7.4 64-bit ('base': conda)",
   "language": "python",
   "name": "python3"
  },
  "language_info": {
   "codemirror_mode": {
    "name": "ipython",
    "version": 3
   },
   "file_extension": ".py",
   "mimetype": "text/x-python",
   "name": "python",
   "nbconvert_exporter": "python",
   "pygments_lexer": "ipython3",
   "version": "3.7.4"
  },
  "orig_nbformat": 4
 },
 "nbformat": 4,
 "nbformat_minor": 2
}
