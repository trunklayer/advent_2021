{
 "cells": [
  {
   "cell_type": "markdown",
   "metadata": {},
   "source": [
    "# Day 18"
   ]
  },
  {
   "cell_type": "code",
   "execution_count": 72,
   "metadata": {},
   "outputs": [],
   "source": [
    "# Definitions\n",
    "\n",
    "import math\n",
    "from functools import reduce\n",
    "from itertools import permutations\n",
    "\n",
    "def parse_input(lines):\n",
    "    return [eval(line) for line in lines.strip().split('\\n')]\n",
    "\n",
    "def split(n):\n",
    "    x = n / 2\n",
    "    return [math.floor(x), math.ceil(x)]\n",
    "\n",
    "class Element:\n",
    "    def __init__(self, *, parent, is_right, is_pair, depth):\n",
    "        self.parent = parent\n",
    "        self.is_right = is_right\n",
    "        self.is_pair = is_pair\n",
    "        self.depth = depth        \n",
    "\n",
    "class Value(Element):\n",
    "    def __init__(self, value, *, parent, is_right, depth):\n",
    "        super().__init__(parent=parent, is_right=is_right, is_pair=False, depth=depth)\n",
    "        self.value = value\n",
    "        \n",
    "    def __repr__(self):\n",
    "        return repr(self.value)\n",
    "    \n",
    "    def to_el(self):\n",
    "        return self.value\n",
    "    \n",
    "    def add_from_left(self, n):\n",
    "        self.value += n\n",
    "    \n",
    "    def add_from_right(self, n):\n",
    "        self.value += n\n",
    "        \n",
    "    def split(self):\n",
    "        if self.value >= 10:\n",
    "            self.parent.replace_child(self, split(self.value))\n",
    "            return True\n",
    "        \n",
    "    def explode(self):\n",
    "        return False\n",
    "    \n",
    "    def _flattener(self):\n",
    "        yield self\n",
    "        \n",
    "    def magnitude(self):\n",
    "        return self.value\n",
    "\n",
    "class Pair(Element):\n",
    "    def __init__(self, left_child, right_child, *, parent=None, is_right=False, depth=0):\n",
    "        super().__init__(parent=parent, is_right=is_right, is_pair=True, depth=depth)\n",
    "        self.left_child = self._make_child(left_child, False)\n",
    "        self.right_child = self._make_child(right_child, True)\n",
    "    \n",
    "    def __repr__(self):\n",
    "        return f'[{repr(self.left_child)},{repr(self.right_child)}]'\n",
    "    \n",
    "    def to_el(self):\n",
    "        return [self.left_child.to_el(), self.right_child.to_el()]\n",
    "    \n",
    "    def add_from_left(self, n):\n",
    "        self.left_child.add_from_left(n)\n",
    "    \n",
    "    def add_from_right(self, n):\n",
    "        self.right_child.add_from_right(n)\n",
    "        \n",
    "    def split(self):        \n",
    "        return any(child.split() for child in (self.left_child, self.right_child))\n",
    "        \n",
    "    def explode(self):\n",
    "        if self.depth >= 4:\n",
    "            return self.parent.replace_child(self, 0)\n",
    "        else:\n",
    "            return any(child.explode() for child in (self.left_child, self.right_child))\n",
    "    \n",
    "    def flatten(self):\n",
    "        return [*self._flattener()]\n",
    "    \n",
    "    def _flattener(self):\n",
    "        if self.is_simple():\n",
    "            yield self\n",
    "        else:\n",
    "            yield from self.left_child._flattener()\n",
    "            yield from self.right_child._flattener()\n",
    "        \n",
    "    def is_simple(self):\n",
    "        return not (self.left_child.is_pair or self.right_child.is_pair)\n",
    "    \n",
    "    def replace_child(self, child, val):\n",
    "        new_child = self._make_child(val, child.is_right)\n",
    "        if new_child.is_right:\n",
    "            self.right_child = new_child\n",
    "        else:\n",
    "            self.left_child = new_child\n",
    "        return new_child\n",
    "    \n",
    "    def _make_child(self, child, is_right):\n",
    "        if type(child) is list:\n",
    "            return Pair(*child, parent=self, is_right=is_right, depth=self.depth+1)\n",
    "        else:\n",
    "            return Value(child, parent=self, is_right=is_right, depth=self.depth+1)\n",
    "    \n",
    "    def magnitude(self):\n",
    "        return 3 * self.left_child.magnitude() + 2 * self.right_child.magnitude()\n",
    "        \n",
    "def try_explode(arr):\n",
    "    for i, el in enumerate(arr):\n",
    "        new_el = el.explode()        \n",
    "        if new_el:            \n",
    "            arr[i] = new_el            \n",
    "            if i > 0:\n",
    "                arr[i-1].add_from_right(el.left_child.value)                \n",
    "            i2 = i + 1\n",
    "            if i2 < len(arr):\n",
    "                arr[i2].add_from_left(el.right_child.value)\n",
    "            return True\n",
    "    return False\n",
    "\n",
    "def try_split(arr):\n",
    "    for i, el in enumerate(arr):\n",
    "        new_el = el.split()        \n",
    "        if new_el:            \n",
    "            arr[i] = new_el            \n",
    "            return True\n",
    "    return False\n",
    "\n",
    "def reduce_pair(pair):    \n",
    "    while True:\n",
    "        arr = pair.flatten()\n",
    "        if not try_explode(arr) and not try_split(arr):\n",
    "            break\n",
    "        \n",
    "def add_arrs(left, right, *, to_el=True):\n",
    "    if type(left) is not list:\n",
    "        return right\n",
    "    else:\n",
    "        pair = Pair(left, right)\n",
    "        reduce_pair(pair)\n",
    "        if to_el:\n",
    "            return pair.to_el()\n",
    "        else:\n",
    "            return pair\n",
    "    \n",
    "def find_largest_magnitude(arr):\n",
    "    # return max(Pair(*pair).magnitude() for pair in permutations(arr))\n",
    "    for pair in permutations(arr):\n",
    "        print(pair)"
   ]
  },
  {
   "cell_type": "code",
   "execution_count": 75,
   "metadata": {},
   "outputs": [
    {
     "name": "stdout",
     "output_type": "stream",
     "text": [
      "[[[[6, 6], [7, 6]], [[7, 7], [7, 0]]], [[[7, 7], [7, 7]], [[7, 8], [9, 9]]]]\n",
      "4140\n",
      "----------------------------------------------------------------------------\n"
     ]
    },
    {
     "ename": "TypeError",
     "evalue": "__init__() takes 3 positional arguments but 11 were given",
     "output_type": "error",
     "traceback": [
      "\u001b[1;31m---------------------------------------------------------------------------\u001b[0m",
      "\u001b[1;31mTypeError\u001b[0m                                 Traceback (most recent call last)",
      "\u001b[1;32m<ipython-input-75-3015cccd1b85>\u001b[0m in \u001b[0;36m<module>\u001b[1;34m\u001b[0m\n\u001b[0;32m     23\u001b[0m \u001b[0mprint\u001b[0m\u001b[1;33m(\u001b[0m\u001b[1;34m'-'\u001b[0m \u001b[1;33m*\u001b[0m \u001b[1;36m76\u001b[0m\u001b[1;33m)\u001b[0m\u001b[1;33m\u001b[0m\u001b[1;33m\u001b[0m\u001b[0m\n\u001b[0;32m     24\u001b[0m \u001b[1;31m# print(find_largest_magnitude(arr))\u001b[0m\u001b[1;33m\u001b[0m\u001b[1;33m\u001b[0m\u001b[1;33m\u001b[0m\u001b[0m\n\u001b[1;32m---> 25\u001b[1;33m \u001b[0mfind_largest_magnitude\u001b[0m\u001b[1;33m(\u001b[0m\u001b[0marr\u001b[0m\u001b[1;33m)\u001b[0m\u001b[1;33m\u001b[0m\u001b[1;33m\u001b[0m\u001b[0m\n\u001b[0m",
      "\u001b[1;32m<ipython-input-72-75365f6cd5af>\u001b[0m in \u001b[0;36mfind_largest_magnitude\u001b[1;34m(arr)\u001b[0m\n\u001b[0;32m    146\u001b[0m \u001b[1;33m\u001b[0m\u001b[0m\n\u001b[0;32m    147\u001b[0m \u001b[1;32mdef\u001b[0m \u001b[0mfind_largest_magnitude\u001b[0m\u001b[1;33m(\u001b[0m\u001b[0marr\u001b[0m\u001b[1;33m)\u001b[0m\u001b[1;33m:\u001b[0m\u001b[1;33m\u001b[0m\u001b[1;33m\u001b[0m\u001b[0m\n\u001b[1;32m--> 148\u001b[1;33m     \u001b[1;32mreturn\u001b[0m \u001b[0mmax\u001b[0m\u001b[1;33m(\u001b[0m\u001b[0mPair\u001b[0m\u001b[1;33m(\u001b[0m\u001b[1;33m*\u001b[0m\u001b[0mpair\u001b[0m\u001b[1;33m)\u001b[0m\u001b[1;33m.\u001b[0m\u001b[0mmagnitude\u001b[0m\u001b[1;33m(\u001b[0m\u001b[1;33m)\u001b[0m \u001b[1;32mfor\u001b[0m \u001b[0mpair\u001b[0m \u001b[1;32min\u001b[0m \u001b[0mpermutations\u001b[0m\u001b[1;33m(\u001b[0m\u001b[0marr\u001b[0m\u001b[1;33m)\u001b[0m\u001b[1;33m)\u001b[0m\u001b[1;33m\u001b[0m\u001b[1;33m\u001b[0m\u001b[0m\n\u001b[0m",
      "\u001b[1;32m<ipython-input-72-75365f6cd5af>\u001b[0m in \u001b[0;36m<genexpr>\u001b[1;34m(.0)\u001b[0m\n\u001b[0;32m    146\u001b[0m \u001b[1;33m\u001b[0m\u001b[0m\n\u001b[0;32m    147\u001b[0m \u001b[1;32mdef\u001b[0m \u001b[0mfind_largest_magnitude\u001b[0m\u001b[1;33m(\u001b[0m\u001b[0marr\u001b[0m\u001b[1;33m)\u001b[0m\u001b[1;33m:\u001b[0m\u001b[1;33m\u001b[0m\u001b[1;33m\u001b[0m\u001b[0m\n\u001b[1;32m--> 148\u001b[1;33m     \u001b[1;32mreturn\u001b[0m \u001b[0mmax\u001b[0m\u001b[1;33m(\u001b[0m\u001b[0mPair\u001b[0m\u001b[1;33m(\u001b[0m\u001b[1;33m*\u001b[0m\u001b[0mpair\u001b[0m\u001b[1;33m)\u001b[0m\u001b[1;33m.\u001b[0m\u001b[0mmagnitude\u001b[0m\u001b[1;33m(\u001b[0m\u001b[1;33m)\u001b[0m \u001b[1;32mfor\u001b[0m \u001b[0mpair\u001b[0m \u001b[1;32min\u001b[0m \u001b[0mpermutations\u001b[0m\u001b[1;33m(\u001b[0m\u001b[0marr\u001b[0m\u001b[1;33m)\u001b[0m\u001b[1;33m)\u001b[0m\u001b[1;33m\u001b[0m\u001b[1;33m\u001b[0m\u001b[0m\n\u001b[0m",
      "\u001b[1;31mTypeError\u001b[0m: __init__() takes 3 positional arguments but 11 were given"
     ]
    }
   ],
   "source": [
    "# Use for demo input\n",
    "\n",
    "lines = '''\n",
    "[[[0,[5,8]],[[1,7],[9,6]]],[[4,[1,2]],[[1,4],2]]]\n",
    "[[[5,[2,8]],4],[5,[[9,9],0]]]\n",
    "[6,[[[6,2],[5,6]],[[7,6],[4,7]]]]\n",
    "[[[6,[0,7]],[0,9]],[4,[9,[9,0]]]]\n",
    "[[[7,[6,4]],[3,[1,3]]],[[[5,5],1],9]]\n",
    "[[6,[[7,3],[3,2]]],[[[3,8],[5,7]],4]]\n",
    "[[[[5,4],[7,7]],8],[[8,3],8]]\n",
    "[[9,3],[[9,9],[6,[4,9]]]]\n",
    "[[2,[[7,7],7]],[[5,8],[[9,3],[0,2]]]]\n",
    "[[[[5,2],5],[8,[3,7]]],[[5,[7,5]],[4,4]]]\n",
    "'''\n",
    "arr = parse_input(lines)\n",
    "\n",
    "# Part 1\n",
    "result = reduce(add_arrs, arr)\n",
    "print(result)\n",
    "print(Pair(*result).magnitude())\n",
    "\n",
    "# Part 2\n",
    "print('-' * 76)\n",
    "# print(find_largest_magnitude(arr))\n",
    "find_largest_magnitude(arr)\n"
   ]
  },
  {
   "cell_type": "code",
   "execution_count": 68,
   "metadata": {},
   "outputs": [
    {
     "data": {
      "text/plain": [
       "76"
      ]
     },
     "execution_count": 68,
     "metadata": {},
     "output_type": "execute_result"
    }
   ],
   "source": [
    "len('[[[[6, 6], [7, 6]], [[7, 7], [7, 0]]], [[[7, 7], [7, 7]], [[7, 8], [9, 9]]]]')"
   ]
  },
  {
   "cell_type": "code",
   "execution_count": 67,
   "metadata": {},
   "outputs": [
    {
     "name": "stdout",
     "output_type": "stream",
     "text": [
      "[[[[7, 7], [7, 7]], [[8, 7], [8, 8]]], [[[8, 0], [8, 8]], [[8, 9], [9, 4]]]]\n",
      "4435\n"
     ]
    }
   ],
   "source": [
    "# Use for actual input\n",
    "\n",
    "with open('day18.txt', 'r') as f:\n",
    "    arr = parse_input(f.read())\n",
    "result = reduce(add_arrs, arr)\n",
    "print(result)\n",
    "print(Pair(*result).magnitude())"
   ]
  }
 ],
 "metadata": {
  "interpreter": {
   "hash": "0b6ea5cf3e2da3c7841276324063e181e5e9dff87f4d073f77c688a5b383f5e2"
  },
  "kernelspec": {
   "display_name": "Python 3.7.4 64-bit ('base': conda)",
   "language": "python",
   "name": "python3"
  },
  "language_info": {
   "codemirror_mode": {
    "name": "ipython",
    "version": 3
   },
   "file_extension": ".py",
   "mimetype": "text/x-python",
   "name": "python",
   "nbconvert_exporter": "python",
   "pygments_lexer": "ipython3",
   "version": "3.7.4"
  },
  "orig_nbformat": 4
 },
 "nbformat": 4,
 "nbformat_minor": 2
}
