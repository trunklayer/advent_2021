{
 "cells": [
  {
   "cell_type": "markdown",
   "metadata": {},
   "source": [
    "# Day 3"
   ]
  },
  {
   "cell_type": "code",
   "execution_count": 1,
   "metadata": {},
   "outputs": [
    {
     "name": "stdout",
     "output_type": "stream",
     "text": [
      "844 3251 2743844\n"
     ]
    }
   ],
   "source": [
    "def process_line(line, r_ones, r_zeroes, lines):\n",
    "    lines.append(line)\n",
    "    for i in range(len(line)):\n",
    "        n = int(line[i])\n",
    "        r_ones[i] += n\n",
    "        r_zeroes[i] += int(not n)\n",
    "        \n",
    "lines = []\n",
    "\n",
    "with open('day3.txt', 'r') as f:\n",
    "    line = next(f).strip()\n",
    "    n = len(line)\n",
    "    r_ones = [0] * n\n",
    "    r_zeroes = [0] * n\n",
    "    process_line(line, r_ones, r_zeroes, lines)\n",
    "    for line in f:\n",
    "        process_line(line.strip(), r_ones, r_zeroes, lines)\n",
    "\n",
    "gamma = [int(a >= b) for a, b in zip(r_ones, r_zeroes)]\n",
    "epsilon = [int(not a) for a in gamma]\n",
    "gamma = f'0b{\"\".join(str(n) for n in gamma)}'\n",
    "epsilon = f'0b{\"\".join(str(n) for n in epsilon)}'\n",
    "gamma = eval(gamma)\n",
    "epsilon = eval(epsilon)\n",
    "print(gamma, epsilon, gamma * epsilon)"
   ]
  },
  {
   "cell_type": "code",
   "execution_count": 2,
   "metadata": {},
   "outputs": [
    {
     "name": "stdout",
     "output_type": "stream",
     "text": [
      "1981 3371 6677951\n"
     ]
    }
   ],
   "source": [
    "def check(digit, n_ones, n_zeroes, isOx):\n",
    "    if isOx:\n",
    "        return ((digit == '1') and n_ones >= n_zeroes) or ((digit == '0') and n_ones < n_zeroes)\n",
    "    else:\n",
    "        return ((digit == '0') and n_ones >= n_zeroes) or ((digit == '1') and n_ones < n_zeroes)\n",
    "\n",
    "def find_gas(lines, n_ones, n_zeroes, isOx):\n",
    "    index = 0\n",
    "    while True:        \n",
    "        lines = [line for line in lines if check(line[index], n_ones, n_zeroes, isOx)]\n",
    "        if len(lines) == 1:            \n",
    "            return eval(f'0b{lines[0]}')\n",
    "        index += 1\n",
    "        n_ones = sum(int(line[index]) for line in lines)\n",
    "        n_zeroes = sum(not int(line[index]) for line in lines)\n",
    "\n",
    "o, c =[find_gas(lines, r_ones[0], r_zeroes[0], isOx) for isOx in (True, False)] \n",
    "print(o, c, o*c)"
   ]
  }
 ],
 "metadata": {
  "interpreter": {
   "hash": "0b6ea5cf3e2da3c7841276324063e181e5e9dff87f4d073f77c688a5b383f5e2"
  },
  "kernelspec": {
   "display_name": "Python 3.7.4 64-bit ('base': conda)",
   "language": "python",
   "name": "python3"
  },
  "language_info": {
   "codemirror_mode": {
    "name": "ipython",
    "version": 3
   },
   "file_extension": ".py",
   "mimetype": "text/x-python",
   "name": "python",
   "nbconvert_exporter": "python",
   "pygments_lexer": "ipython3",
   "version": "3.7.4"
  },
  "orig_nbformat": 4
 },
 "nbformat": 4,
 "nbformat_minor": 2
}
