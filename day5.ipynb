{
 "cells": [
  {
   "cell_type": "markdown",
   "metadata": {},
   "source": [
    "# Day 5"
   ]
  },
  {
   "cell_type": "code",
   "execution_count": 1,
   "metadata": {},
   "outputs": [
    {
     "name": "stdout",
     "output_type": "stream",
     "text": [
      "max coord: 990\n",
      "number of intersections: 19349\n"
     ]
    }
   ],
   "source": [
    "from collections import namedtuple\n",
    "from itertools import chain\n",
    "\n",
    "LineOfVents = namedtuple('LineOfVents', 'x0 y0 x1 y1')\n",
    "def parse_line(line):\n",
    "    g = (el.strip().split(',') for el in line.split('->'))\n",
    "    g = (\n",
    "        (int(el) for el in t)\n",
    "        for t in g\n",
    "    )\n",
    "    (x0, y0), (x1, y1) = g\n",
    "    return LineOfVents(x0, y0, x1, y1)\n",
    "\n",
    "def minmax(a, b):\n",
    "    return min(a, b), max(a, b)\n",
    "\n",
    "def draw_point(x, y, canvas):    \n",
    "    if canvas[y][x] == '.':\n",
    "        canvas[y][x] = 1\n",
    "    else:\n",
    "        canvas[y][x] += 1\n",
    "        \n",
    "def draw_line(line, canvas):\n",
    "    if line.y0 == line.y1:\n",
    "        x0, x1 = minmax(line.x0, line.x1)\n",
    "        y = line.y0\n",
    "        for x in range(x0, x1+1):\n",
    "            draw_point(x, y, canvas)\n",
    "    elif line.x0 == line.x1:\n",
    "        x = line.x0\n",
    "        y0, y1 = minmax(line.y0, line.y1)\n",
    "        for y in range(y0, y1+1):\n",
    "            draw_point(x, y, canvas)\n",
    "    else:\n",
    "        x0, x1 = minmax(line.x0, line.x1)\n",
    "        length = x1 - x0\n",
    "        x0, y0, x1, y1 = line\n",
    "        xc = 1 if x1 > x0 else -1\n",
    "        yc = 1 if y1 > y0 else -1\n",
    "        x, y = x0, y0\n",
    "        for _ in range(length+1):\n",
    "            draw_point(x, y, canvas)\n",
    "            x += xc\n",
    "            y += yc\n",
    "\n",
    "with open('day5.txt', 'r') as f:\n",
    "    n = max(max(parse_line(line)) for line in f)\n",
    "\n",
    "print('max coord:', n)\n",
    "\n",
    "canvas = [\n",
    "    # ['.'] * (n+1)\n",
    "    [0] * (n+1)\n",
    "    for _ in range(n+1)\n",
    "]\n",
    "    \n",
    "with open('day5.txt', 'r') as f:\n",
    "    g = (parse_line(line) for line in f)\n",
    "    # g = (v for v in g if (v.x0 == v.x1) or (v.y0 == v.y1))\n",
    "    for line in g:\n",
    "        draw_line(line, canvas)\n",
    "c = chain.from_iterable(canvas)\n",
    "print('number of intersections:', len([p for p in c if p > 1]))\n",
    "# for row in canvas:\n",
    "#     print(' '.join(str(el) for el in row))"
   ]
  }
 ],
 "metadata": {
  "interpreter": {
   "hash": "0b6ea5cf3e2da3c7841276324063e181e5e9dff87f4d073f77c688a5b383f5e2"
  },
  "kernelspec": {
   "display_name": "Python 3.7.4 64-bit ('base': conda)",
   "language": "python",
   "name": "python3"
  },
  "language_info": {
   "codemirror_mode": {
    "name": "ipython",
    "version": 3
   },
   "file_extension": ".py",
   "mimetype": "text/x-python",
   "name": "python",
   "nbconvert_exporter": "python",
   "pygments_lexer": "ipython3",
   "version": "3.7.4"
  },
  "orig_nbformat": 4
 },
 "nbformat": 4,
 "nbformat_minor": 2
}
