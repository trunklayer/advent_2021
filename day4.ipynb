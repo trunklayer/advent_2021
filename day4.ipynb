{
 "cells": [
  {
   "cell_type": "markdown",
   "metadata": {},
   "source": [
    "# Day 4"
   ]
  },
  {
   "cell_type": "code",
   "execution_count": 1,
   "metadata": {},
   "outputs": [
    {
     "name": "stdout",
     "output_type": "stream",
     "text": [
      "55770 2980\n"
     ]
    }
   ],
   "source": [
    "from itertools import islice, chain\n",
    "import re\n",
    "\n",
    "class Board:\n",
    "    \n",
    "    regexp = re.compile(r'\\s+')\n",
    "    \n",
    "    @classmethod    \n",
    "    def _format_el(cls, el, marked):\n",
    "        if marked:\n",
    "            return f'({el})'\n",
    "        else:\n",
    "            return el\n",
    "    \n",
    "    def __init__(self, lines):\n",
    "        self.rows = [\n",
    "            {int(el): False for el in Board.regexp.split(line)}\n",
    "            for line in lines\n",
    "        ]\n",
    "        self.sidelen = len(self.rows)        \n",
    "        self.win = False\n",
    "        self.score = 0\n",
    "        \n",
    "    def play(self, n):\n",
    "        had_n = False\n",
    "        for row in self.rows:\n",
    "            if n in row:\n",
    "                row[n] = True\n",
    "                had_n = True\n",
    "        if had_n:\n",
    "            self._check_win()\n",
    "            if self.win:\n",
    "                self._calc_score(n)\n",
    "        return self.win\n",
    "        \n",
    "    def __bool__(self):\n",
    "        return bool(self.sidelen)\n",
    "    \n",
    "    def __str__(self):\n",
    "        arr = []\n",
    "        arr.append(f'win: {self.win}, score: {self.score}')\n",
    "        arr.extend(\n",
    "            '\\t'.join(f'{self._format_el(el, marked):^4}' for el, marked in row.items())\n",
    "            for row in self.rows\n",
    "        )\n",
    "        return '\\n'.join(arr)\n",
    "            \n",
    "    def _calc_score(self, n):\n",
    "        self.score = sum(\n",
    "            sum(k for k, v in row.items() if not v)\n",
    "            for row in self.rows\n",
    "        ) * n\n",
    "    \n",
    "    def _check_win(self):\n",
    "        if not self.win:\n",
    "            self.win = any(\n",
    "                all(row.values())\n",
    "                for row in self.rows\n",
    "            )\n",
    "        if not self.win:\n",
    "            self.win = any(\n",
    "                all(col)\n",
    "                for col in zip(*[row.values() for row in self.rows])\n",
    "            )\n",
    "\n",
    "def board_generator(g):\n",
    "    while True:\n",
    "        result = Board(islice(g, 0, 5))\n",
    "        if result:\n",
    "            yield result\n",
    "        else:\n",
    "            break\n",
    "    \n",
    "def play_number(n, boards):\n",
    "    boards = (board for board in boards if not board.win)\n",
    "    return [\n",
    "        board.score\n",
    "        for board in boards\n",
    "        if board.play(n)\n",
    "    ]    \n",
    "\n",
    "with open('day4.txt', 'r') as f:\n",
    "    g = (line.strip() for line in f)\n",
    "    line = next(g).split(',')\n",
    "    inp_arr = [int(el) for el in line]\n",
    "    g = (line for line in g if line)\n",
    "    boards = [*board_generator(g)]\n",
    "scores = chain.from_iterable(\n",
    "    play_number(n, boards)\n",
    "    for n in inp_arr\n",
    ")\n",
    "scores = [score for score in scores if score]\n",
    "print(scores[0], scores[-1])"
   ]
  },
  {
   "cell_type": "code",
   "execution_count": 2,
   "metadata": {},
   "outputs": [],
   "source": [
    "# For checking that each number is unique in a row\n",
    "\n",
    "regexp = re.compile(r'\\s+')\n",
    "with open('day4.txt', 'r') as f:\n",
    "    g = (line.strip() for line in f)\n",
    "    next(g)    \n",
    "    g = (set(regexp.split(line)) for line in g if line)\n",
    "    assert all(len(line) == 5 for line in g)"
   ]
  }
 ],
 "metadata": {
  "interpreter": {
   "hash": "0b6ea5cf3e2da3c7841276324063e181e5e9dff87f4d073f77c688a5b383f5e2"
  },
  "kernelspec": {
   "display_name": "Python 3.7.4 64-bit ('base': conda)",
   "language": "python",
   "name": "python3"
  },
  "language_info": {
   "codemirror_mode": {
    "name": "ipython",
    "version": 3
   },
   "file_extension": ".py",
   "mimetype": "text/x-python",
   "name": "python",
   "nbconvert_exporter": "python",
   "pygments_lexer": "ipython3",
   "version": "3.7.4"
  },
  "orig_nbformat": 4
 },
 "nbformat": 4,
 "nbformat_minor": 2
}
