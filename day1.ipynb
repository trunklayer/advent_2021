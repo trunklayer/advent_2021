{
 "cells": [
  {
   "cell_type": "markdown",
   "metadata": {},
   "source": [
    "# Day 1"
   ]
  },
  {
   "cell_type": "code",
   "execution_count": 4,
   "metadata": {},
   "outputs": [
    {
     "name": "stdout",
     "output_type": "stream",
     "text": [
      "1645\n"
     ]
    }
   ],
   "source": [
    "from functools import reduce\n",
    "from operator import add\n",
    "\n",
    "def increasing(b):\n",
    "    global a        \n",
    "    result = b > a\n",
    "    a = b    \n",
    "    return result\n",
    "\n",
    "\n",
    "with open('day1_1.txt', 'r') as f:\n",
    "    g = (int(line.strip()) for line in f)\n",
    "    a = next(g)\n",
    "    g = (increasing(x) for x in g)\n",
    "    n = reduce(add, g)\n",
    "print(n)"
   ]
  },
  {
   "cell_type": "code",
   "execution_count": 3,
   "metadata": {},
   "outputs": [],
   "source": [
    "from itertools import tee\n",
    "\n",
    "with open('day1_2.txt', 'r') as f, open('day1_1.txt', 'w') as w:\n",
    "    g = (int(line.strip()) for line in f)\n",
    "    t = tee(g, 3)\n",
    "    for i, itr in enumerate(t):\n",
    "        for _ in range(i):\n",
    "            next(itr)\n",
    "    w.writelines(f'{sum(t)}\\n' for t in zip(*t))"
   ]
  }
 ],
 "metadata": {
  "interpreter": {
   "hash": "0b6ea5cf3e2da3c7841276324063e181e5e9dff87f4d073f77c688a5b383f5e2"
  },
  "kernelspec": {
   "display_name": "Python 3.7.4 64-bit ('base': conda)",
   "language": "python",
   "name": "python3"
  },
  "language_info": {
   "codemirror_mode": {
    "name": "ipython",
    "version": 3
   },
   "file_extension": ".py",
   "mimetype": "text/x-python",
   "name": "python",
   "nbconvert_exporter": "python",
   "pygments_lexer": "ipython3",
   "version": "3.7.4"
  },
  "orig_nbformat": 4
 },
 "nbformat": 4,
 "nbformat_minor": 2
}
