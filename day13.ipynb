{
 "cells": [
  {
   "cell_type": "markdown",
   "metadata": {},
   "source": [
    "# Day 13"
   ]
  },
  {
   "cell_type": "code",
   "execution_count": 32,
   "metadata": {},
   "outputs": [],
   "source": [
    "from collections import namedtuple\n",
    "\n",
    "Dot = namedtuple('Dot', 'x, y')\n",
    "def parse_dot(line):\n",
    "    x, y = (int(s) for s in line.split(','))\n",
    "    return Dot(x, y)\n",
    "\n",
    "Fold = namedtuple('Fold', 'axis coord')\n",
    "def parse_fold(line):\n",
    "    _, _, s = line.split(' ')\n",
    "    axis, coord = s.split('=')\n",
    "    return Fold(axis, int(coord))\n",
    "\n",
    "def get_symbol(is_dot):\n",
    "    return '#' if is_dot else '.'\n",
    "\n",
    "def fold_up(canvas, folding_line_position):\n",
    "    canvas_width = len(canvas[0])\n",
    "    for i in range(1, folding_line_position + 1):\n",
    "        for j in range(canvas_width):\n",
    "            y0 = folding_line_position - i\n",
    "            y1 = folding_line_position + i\n",
    "            canvas[y0][j] = canvas[y0][j] or canvas[y1][j]\n",
    "    return canvas[:folding_line_position]\n",
    "\n",
    "def fold_left(canvas, folding_line_position):\n",
    "    for i in range(len(canvas)):\n",
    "        for j in range(1, folding_line_position + 1):\n",
    "            x0 = folding_line_position - j\n",
    "            x1 = folding_line_position + j\n",
    "            canvas[i][x0] = canvas[i][x0] or canvas [i][x1]\n",
    "    return [\n",
    "        line[:folding_line_position]\n",
    "        for line in canvas\n",
    "    ]\n",
    "\n",
    "def fold_canvas(canvas, fold):\n",
    "    if fold.axis == 'y':\n",
    "        return fold_up(canvas, fold.coord)\n",
    "    else:\n",
    "        return fold_left(canvas, fold.coord)"
   ]
  },
  {
   "cell_type": "code",
   "execution_count": 33,
   "metadata": {},
   "outputs": [
    {
     "name": "stdout",
     "output_type": "stream",
     "text": [
      "747\n"
     ]
    }
   ],
   "source": [
    "from itertools import takewhile, chain\n",
    "\n",
    "with open('day13.txt', 'r') as f:\n",
    "    lines = (line.strip() for line in f)\n",
    "    dots = takewhile(lambda line: line, lines)\n",
    "    dots = [parse_dot(dot) for dot in dots]    \n",
    "    folds = [parse_fold(line) for line in lines]\n",
    "\n",
    "canvas = [\n",
    "    [False] * (max(dot.x for dot in dots) + 1)\n",
    "    for _ in range(max(dot.y for dot in dots) + 1)\n",
    "]\n",
    "\n",
    "for dot in dots:\n",
    "    canvas[dot.y][dot.x] = True\n",
    "    \n",
    "folds = iter(folds)\n",
    "canvas = fold_canvas(canvas, next(folds))\n",
    "\n",
    "n = len([x for x in chain.from_iterable(canvas) if x])\n",
    "\n",
    "print(n)"
   ]
  },
  {
   "cell_type": "code",
   "execution_count": 34,
   "metadata": {},
   "outputs": [
    {
     "name": "stdout",
     "output_type": "stream",
     "text": [
      ". # # . . # # # . . # . . # . # # # # . # # # . . . # # . . # . . # . # . . # .\n",
      "# . . # . # . . # . # . . # . . . . # . # . . # . # . . # . # . . # . # . . # .\n",
      "# . . # . # . . # . # # # # . . . # . . # . . # . # . . . . # . . # . # # # # .\n",
      "# # # # . # # # . . # . . # . . # . . . # # # . . # . . . . # . . # . # . . # .\n",
      "# . . # . # . # . . # . . # . # . . . . # . . . . # . . # . # . . # . # . . # .\n",
      "# . . # . # . . # . # . . # . # # # # . # . . . . . # # . . . # # . . # . . # .\n"
     ]
    }
   ],
   "source": [
    "for fold in folds:\n",
    "    canvas = fold_canvas(canvas, fold)\n",
    "    \n",
    "for line in canvas:\n",
    "    print(' '.join(get_symbol(is_dot) for is_dot in line))"
   ]
  }
 ],
 "metadata": {
  "interpreter": {
   "hash": "0b6ea5cf3e2da3c7841276324063e181e5e9dff87f4d073f77c688a5b383f5e2"
  },
  "kernelspec": {
   "display_name": "Python 3.7.4 64-bit ('base': conda)",
   "language": "python",
   "name": "python3"
  },
  "language_info": {
   "codemirror_mode": {
    "name": "ipython",
    "version": 3
   },
   "file_extension": ".py",
   "mimetype": "text/x-python",
   "name": "python",
   "nbconvert_exporter": "python",
   "pygments_lexer": "ipython3",
   "version": "3.7.4"
  },
  "orig_nbformat": 4
 },
 "nbformat": 4,
 "nbformat_minor": 2
}
