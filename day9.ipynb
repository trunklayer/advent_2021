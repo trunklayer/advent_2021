{
 "cells": [
  {
   "cell_type": "markdown",
   "metadata": {},
   "source": [
    "# Day 9"
   ]
  },
  {
   "cell_type": "code",
   "execution_count": 1,
   "metadata": {},
   "outputs": [
    {
     "data": {
      "text/plain": [
       "468"
      ]
     },
     "execution_count": 1,
     "metadata": {},
     "output_type": "execute_result"
    }
   ],
   "source": [
    "def parse_line(line):\n",
    "    return [int(n) for n in line.strip()]\n",
    "\n",
    "def get_height(i, j, lines):\n",
    "    if (i < 0) or (j < 0) or (i >= len(lines)) or (j >= len(lines[i])):\n",
    "        return 9\n",
    "    else:\n",
    "        return lines[i][j]\n",
    "\n",
    "def check_point(m, n, height, lines):\n",
    "    points = [get_height(m+i, n, lines) for i in [-1, 1]] + [get_height(m, n+i, lines) for i in [-1, 1]]\n",
    "    return min(points) > height\n",
    "\n",
    "def find_low_points(lines):\n",
    "    for i, line in enumerate(lines):\n",
    "        for j, height in enumerate(line):\n",
    "            if check_point(i, j, height, lines):\n",
    "                yield i, j, height\n",
    "\n",
    "with open('day9.txt', 'r') as f:\n",
    "    lines = [parse_line(line) for line in f]\n",
    "    \n",
    "low_points = [*find_low_points(lines)]\n",
    "\n",
    "sum(t[2] + 1 for t in low_points)"
   ]
  },
  {
   "cell_type": "code",
   "execution_count": 3,
   "metadata": {},
   "outputs": [
    {
     "data": {
      "image/png": "[encoded data removed]",
      "text/plain": [
       "<Figure size 432x288 with 1 Axes>"
      ]
     },
     "metadata": {
      "needs_background": "light"
     },
     "output_type": "display_data"
    }
   ],
   "source": [
    "# Unnecessary, but just for displaying the diagram of pools\n",
    "\n",
    "import matplotlib.pyplot as plt\n",
    "\n",
    "plt.imshow(lines)\n",
    "plt.show()"
   ]
  },
  {
   "cell_type": "code",
   "execution_count": 4,
   "metadata": {},
   "outputs": [
    {
     "data": {
      "text/plain": [
       "1280496"
      ]
     },
     "execution_count": 4,
     "metadata": {},
     "output_type": "execute_result"
    }
   ],
   "source": [
    "from functools import reduce\n",
    "from operator import mul\n",
    "from enum import Enum\n",
    "\n",
    "class Direction(Enum):\n",
    "    UP = 1,\n",
    "    DOWN = 2\n",
    "    LEFT = 3\n",
    "    RIGHT = 4\n",
    "        \n",
    "    def antidirection(self):\n",
    "        if self is Direction.UP:\n",
    "            return Direction.DOWN\n",
    "        elif self is Direction.DOWN:\n",
    "            return Direction.UP\n",
    "        elif self is Direction.LEFT:\n",
    "            return Direction.RIGHT\n",
    "        elif self is Direction.RIGHT:\n",
    "            return Direction.LEFT\n",
    "\n",
    "class Point:\n",
    "    def __init__(self, m, n, *, search_direction=None, origin=None):\n",
    "        self.m, self.n = m, n\n",
    "        self.neighbours = {}\n",
    "        if origin:\n",
    "            self.set_neighbour(origin, search_direction.antidirection())     \n",
    "            origin.set_neighbour(self, search_direction)\n",
    "            \n",
    "    def set_neighbour(self, point, search_direction):\n",
    "        self.neighbours[search_direction] = point\n",
    "        \n",
    "    def is_explored(self, direction):\n",
    "        return direction in self.neighbours\n",
    "    \n",
    "    def is_fully_explored(self):\n",
    "        return all(\n",
    "            self.is_explored(direction)\n",
    "            for direction in Direction.__members__.values()\n",
    "        )\n",
    "            \n",
    "def search(origin, direction, basin):\n",
    "    if direction is Direction.UP:\n",
    "        m = origin.m - 1\n",
    "        n = origin.n\n",
    "    elif direction is Direction.DOWN:\n",
    "        m = origin.m + 1\n",
    "        n = origin.n\n",
    "    elif direction is Direction.LEFT:\n",
    "        m = origin.m\n",
    "        n = origin.n - 1\n",
    "    else:\n",
    "        m = origin.m\n",
    "        n = origin.n + 1\n",
    "    if (m, n) in basin:\n",
    "        point = basin[(m, n)]\n",
    "        origin.set_neighbour(point, direction)\n",
    "        point.set_neighbour(origin, direction.antidirection())\n",
    "        return None\n",
    "    height = get_height(m, n, lines)    \n",
    "    if height == 9:\n",
    "        origin.set_neighbour(None, direction)\n",
    "        return None\n",
    "    else:\n",
    "        point = Point(m, n, search_direction=direction, origin=origin)\n",
    "        basin[(point.m, point.n)] = point\n",
    "        return point\n",
    "    \n",
    "def explore(origin, basin):\n",
    "    for direction in Direction.__members__.values():\n",
    "        if origin.is_explored(direction):\n",
    "            continue        \n",
    "        point = origin\n",
    "        while point:\n",
    "            point = search(point, direction, basin)\n",
    "\n",
    "def explore_basin(m, n):\n",
    "    origin = Point(m, n)\n",
    "    basin = {(m,  n): origin}    \n",
    "    while True:\n",
    "        unexplored = [point for point in basin.values() if not point.is_fully_explored()]\n",
    "        if not unexplored:\n",
    "            break\n",
    "        for point in unexplored:\n",
    "            explore(point, basin)\n",
    "    return basin\n",
    "\n",
    "basin_sizes = sorted(\n",
    "    (len(explore_basin(m, n)) for m, n, _ in low_points),\n",
    "    reverse=True\n",
    ")\n",
    "reduce(mul, basin_sizes[:3], 1)"
   ]
  }
 ],
 "metadata": {
  "interpreter": {
   "hash": "0b6ea5cf3e2da3c7841276324063e181e5e9dff87f4d073f77c688a5b383f5e2"
  },
  "kernelspec": {
   "display_name": "Python 3.7.4 64-bit ('base': conda)",
   "language": "python",
   "name": "python3"
  },
  "language_info": {
   "codemirror_mode": {
    "name": "ipython",
    "version": 3
   },
   "file_extension": ".py",
   "mimetype": "text/x-python",
   "name": "python",
   "nbconvert_exporter": "python",
   "pygments_lexer": "ipython3",
   "version": "3.7.4"
  },
  "orig_nbformat": 4
 },
 "nbformat": 4,
 "nbformat_minor": 2
}
