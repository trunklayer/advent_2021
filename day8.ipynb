{
 "cells": [
  {
   "cell_type": "markdown",
   "metadata": {},
   "source": [
    "# Day 8"
   ]
  },
  {
   "cell_type": "code",
   "execution_count": 1,
   "metadata": {},
   "outputs": [
    {
     "name": "stdout",
     "output_type": "stream",
     "text": [
      "440\n"
     ]
    }
   ],
   "source": [
    "from itertools import chain\n",
    "\n",
    "with open('day8.txt', 'r') as f:\n",
    "    g = (line.strip().split('|') for line in f)        \n",
    "    g = (arr[1].strip().split(' ') for arr in g)\n",
    "    g = chain.from_iterable(g)    \n",
    "    unique_outputs = [s for s in g if len(s) in {2, 4, 3, 7}]\n",
    "print(len(unique_outputs))\n",
    "    "
   ]
  },
  {
   "cell_type": "code",
   "execution_count": 2,
   "metadata": {},
   "outputs": [
    {
     "name": "stdout",
     "output_type": "stream",
     "text": [
      "1046281\n"
     ]
    }
   ],
   "source": [
    "from collections import Counter\n",
    "\n",
    "working_display = {\n",
    "    'abcefg': '0',\n",
    "    'cf': '1',\n",
    "    'acdeg': '2',\n",
    "    'acdfg': '3',\n",
    "    'bcdf': '4',\n",
    "    'abdfg': '5',\n",
    "    'abdefg': '6',\n",
    "    'acf': '7',\n",
    "    'abcdefg': '8',\n",
    "    'abcdfg': '9'\n",
    "}\n",
    "\n",
    "def formalize(data):\n",
    "    return data.strip().split(' ')\n",
    "\n",
    "def analyze_patterns(patterns):\n",
    "    mapping = {}\n",
    "    patterns = formalize(patterns)\n",
    "    \n",
    "    #Counting how many times each segment is used for making 10 digits\n",
    "    counter = Counter(''.join(patterns))    \n",
    "    segments_by_usage = {v: k for k, v in counter.items()}\n",
    "    \n",
    "    # each of these segments have unique amount of usages.\n",
    "    # for example, segment f is used in all digits except 2, so it has 9 usages out of 10\n",
    "    # no other segment is used 9 times to make numbers 0-9\n",
    "    # similarily, only segment b is used 6 times out of 10\n",
    "    # and only segment e is used 4 times out of 10\n",
    "    b, e, f = (segments_by_usage[i] for i in [6, 4, 9])\n",
    "    mapping[b] = 'b'\n",
    "    mapping[e] = 'e'\n",
    "    mapping[f] = 'f'\n",
    "    \n",
    "    patterns_by_length = {len(pattern): pattern for pattern in patterns}\n",
    "    \n",
    "    # the pattern with length 2 corresponds to number 1 which consists of segments c and f\n",
    "    # as we already know segment f, we can now find segment c\n",
    "    c = next(segment for segment in patterns_by_length[2] if segment != f)\n",
    "    mapping[c] = 'c'\n",
    "    \n",
    "    # the pattern with length 3 corresponds to number 7 which consists of segments a, c and f\n",
    "    # as we already know the other two, we can now find segment a\n",
    "    a = next(segment for segment in patterns_by_length[3] if segment not in {c, f})\n",
    "    mapping[a] = 'a'\n",
    "    \n",
    "    # the pattern with length 4 corresponds to number 4 which consists of segments b, c, d and f\n",
    "    # as we already know the other three, we can now find segment d\n",
    "    d = next(segment for segment in patterns_by_length[4] if segment not in {b, c, f})\n",
    "    mapping[d] = 'd'\n",
    "    \n",
    "    # the pattern with length 7 corresponds to number 8 which consists of all segments\n",
    "    # as we already know the other six, we can now find segment g\n",
    "    g = next(segment for segment in patterns_by_length[7] if segment not in {a, b, c, d, e, f})\n",
    "    mapping[g] = 'g'\n",
    "    return mapping\n",
    "\n",
    "def read_output(output, mapping):\n",
    "    # finding which segments were supposed to be activated and creating a combination of them\n",
    "    output = sorted(mapping[c] for c in output)\n",
    "    output = ''.join(output)\n",
    "    # returning the value that corresponds to this combination of segments\n",
    "    return working_display[output]\n",
    "\n",
    "def read_outputs(outputs, mapping):\n",
    "    return ''.join(read_output(output, mapping) for output in formalize(outputs))\n",
    "\n",
    "def process_line(line):\n",
    "    patterns, outputs = line.split('|')\n",
    "    # dictionary {wrongly_wired_segment: correctly_wired_segment}\n",
    "    mapping = analyze_patterns(patterns)\n",
    "    return int(read_outputs(outputs, mapping))\n",
    "    \n",
    "with open('day8.txt', 'r') as f:\n",
    "    n = sum(process_line(line) for line in f)\n",
    "print(n)"
   ]
  }
 ],
 "metadata": {
  "interpreter": {
   "hash": "0b6ea5cf3e2da3c7841276324063e181e5e9dff87f4d073f77c688a5b383f5e2"
  },
  "kernelspec": {
   "display_name": "Python 3.7.4 64-bit ('base': conda)",
   "language": "python",
   "name": "python3"
  },
  "language_info": {
   "codemirror_mode": {
    "name": "ipython",
    "version": 3
   },
   "file_extension": ".py",
   "mimetype": "text/x-python",
   "name": "python",
   "nbconvert_exporter": "python",
   "pygments_lexer": "ipython3",
   "version": "3.7.4"
  },
  "orig_nbformat": 4
 },
 "nbformat": 4,
 "nbformat_minor": 2
}
