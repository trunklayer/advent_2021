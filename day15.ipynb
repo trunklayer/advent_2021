{
 "cells": [
  {
   "cell_type": "markdown",
   "metadata": {},
   "source": [
    "# Day 15"
   ]
  },
  {
   "cell_type": "code",
   "execution_count": 11,
   "metadata": {},
   "outputs": [
    {
     "data": {
      "text/plain": [
       "366"
      ]
     },
     "execution_count": 11,
     "metadata": {},
     "output_type": "execute_result"
    }
   ],
   "source": [
    "from enum import Enum\n",
    "from itertools import chain\n",
    "\n",
    "Direction = Enum('Direction', 'U R D L')\n",
    "\n",
    "class Point:\n",
    "    def __init__(self, y, x, risk_factor):\n",
    "        self.y = y\n",
    "        self.x = x\n",
    "        self.risk_factor = risk_factor\n",
    "        self.direction = None\n",
    "        self.neighbours_risk_factor = 0\n",
    "    def __repr__(self):\n",
    "        if self.direction:\n",
    "            return f'{self.direction.name}{self.neighbours_risk_factor}'\n",
    "        else:\n",
    "            return str(self.risk_factor)\n",
    "    def total_risk_factor(self):\n",
    "        return self.risk_factor + self.neighbours_risk_factor\n",
    "    \n",
    "def get_val(y, x, arr):\n",
    "    try:\n",
    "        if (x < 0) or (y < 0):\n",
    "            return None\n",
    "        return arr[y][x]\n",
    "    except Exception:\n",
    "        return None\n",
    "    \n",
    "def fill_point(point, points):    \n",
    "    dn = get_val(point.y+1, point.x, points)\n",
    "    rn = get_val(point.y, point.x+1, points)\n",
    "    if dn:\n",
    "        if rn and (rn.total_risk_factor() < dn.total_risk_factor()):\n",
    "            point.direction = Direction.R\n",
    "            point.neighbours_risk_factor = rn.total_risk_factor()\n",
    "        else:\n",
    "            point.direction = Direction.D\n",
    "            point.neighbours_risk_factor = dn.total_risk_factor()\n",
    "    elif rn:\n",
    "        point.direction = Direction.R        \n",
    "        point.neighbours_risk_factor = rn.total_risk_factor()        \n",
    "        \n",
    "def fill_points(points):\n",
    "    for line in points[::-1]:\n",
    "        for point in line[::-1]:\n",
    "            fill_point(point, points)\n",
    "            \n",
    "def find_direction_to_p1(p0, p1, default=None):\n",
    "    if p0.x < p1.x:\n",
    "        return Direction.R\n",
    "    elif p0.x > p1.x:\n",
    "        return Direction.L\n",
    "    elif p0.y < p1.y:\n",
    "        return Direction.D\n",
    "    elif p0.y > p1.y:\n",
    "        return Direction.U\n",
    "    else:\n",
    "        return default\n",
    "            \n",
    "def correct_point(point, points):\n",
    "    pts = chain(\n",
    "        (get_val(point.y, i, points) for i in (point.x - 1, point.x + 1)),\n",
    "        (get_val(i, point.x, points) for i in (point.y - 1, point.y + 1)),\n",
    "        (point,)\n",
    "    )\n",
    "    pts = (p for p in pts if p)    \n",
    "    p = sorted(pts, key=lambda p: p.total_risk_factor())[0]\n",
    "    if p is not point:\n",
    "        point.neighbours_risk_factor = p.total_risk_factor()\n",
    "        point.direction = find_direction_to_p1(point, p)\n",
    "    \n",
    "def correct_points(points):\n",
    "    for row in points[::-1]:\n",
    "        for point in row[::-1]:\n",
    "            correct_point(point, points)\n",
    "            \n",
    "def correct_points_continuously(points):\n",
    "    total_risk_factor = points[0][0].neighbours_risk_factor\n",
    "    while True:    \n",
    "        correct_points(points)\n",
    "        new_risk_factor = points[0][0].neighbours_risk_factor\n",
    "        if new_risk_factor == total_risk_factor:\n",
    "            break\n",
    "        else:\n",
    "            total_risk_factor = new_risk_factor\n",
    "    return total_risk_factor\n",
    "\n",
    "with open('day15.txt', 'r') as f:\n",
    "    lines = (line.strip() for line in f)\n",
    "    points = [\n",
    "        [Point(i, j, int(n)) for j, n in enumerate(line)]\n",
    "        for i, line in enumerate(lines)\n",
    "    ]      \n",
    "point = points[1][2]\n",
    "fill_points(points)\n",
    "correct_points_continuously(points)"
   ]
  },
  {
   "cell_type": "code",
   "execution_count": 12,
   "metadata": {},
   "outputs": [
    {
     "data": {
      "text/plain": [
       "2829"
      ]
     },
     "execution_count": 12,
     "metadata": {},
     "output_type": "execute_result"
    }
   ],
   "source": [
    "def make_point(y, x, points, m, n):\n",
    "    point = points[y % m][x % n]\n",
    "    risk_factor = point.risk_factor + (y // m) + (x // n)\n",
    "    if risk_factor >= 10:\n",
    "        risk_factor -= 9\n",
    "    return Point(y, x, risk_factor)\n",
    "m, n = len(points), len(points[0])\n",
    "new_points = [\n",
    "    [make_point(y, x, points, m, n) for x in range(5*n)]\n",
    "    for y in range(5*m)\n",
    "]\n",
    "fill_points(new_points)\n",
    "correct_points_continuously(new_points)"
   ]
  },
  {
   "cell_type": "code",
   "execution_count": 14,
   "metadata": {},
   "outputs": [
    {
     "data": {
      "image/png": "[encoded data removed]",
      "text/plain": [
       "<Figure size 432x288 with 2 Axes>"
      ]
     },
     "metadata": {
      "needs_background": "light"
     },
     "output_type": "display_data"
    }
   ],
   "source": [
    "import matplotlib.pyplot as plt\n",
    "\n",
    "def walk_path(points):\n",
    "    y, x = 0, 0\n",
    "    while True:\n",
    "        point = points[y][x]\n",
    "        yield point\n",
    "        if point.direction == Direction.U:\n",
    "            y -= 1\n",
    "        elif point.direction == Direction.D:\n",
    "            y += 1\n",
    "        elif point.direction == Direction.L:\n",
    "            x -= 1\n",
    "        elif point.direction == Direction.R:\n",
    "            x += 1\n",
    "        else:\n",
    "            break\n",
    "        \n",
    "def make_canvas(points):\n",
    "    m, n = len(points), len(points[0])\n",
    "    return [\n",
    "        [False] * n\n",
    "        for _ in range(m)\n",
    "    ]\n",
    "    \n",
    "def chart(path, canvas):\n",
    "    for point in path:\n",
    "        canvas[point.y][point.x] = True\n",
    "        \n",
    "def chart_points(points, title, axis):\n",
    "    canvas = make_canvas(points)\n",
    "    path = walk_path(points)\n",
    "    chart(path, canvas)\n",
    "    axis.set_title(title)\n",
    "    axis.imshow(canvas)    \n",
    "    \n",
    "_, (a, b) = plt.subplots(1, 2)\n",
    "chart_points(points, 'points', a)\n",
    "chart_points(new_points, 'new_points', b)\n",
    "plt.show()"
   ]
  }
 ],
 "metadata": {
  "interpreter": {
   "hash": "0b6ea5cf3e2da3c7841276324063e181e5e9dff87f4d073f77c688a5b383f5e2"
  },
  "kernelspec": {
   "display_name": "Python 3.7.4 64-bit ('base': conda)",
   "language": "python",
   "name": "python3"
  },
  "language_info": {
   "codemirror_mode": {
    "name": "ipython",
    "version": 3
   },
   "file_extension": ".py",
   "mimetype": "text/x-python",
   "name": "python",
   "nbconvert_exporter": "python",
   "pygments_lexer": "ipython3",
   "version": "3.7.4"
  },
  "orig_nbformat": 4
 },
 "nbformat": 4,
 "nbformat_minor": 2
}
