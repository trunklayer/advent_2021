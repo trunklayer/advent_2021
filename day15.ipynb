{
 "cells": [
  {
   "cell_type": "markdown",
   "metadata": {},
   "source": [
    "# Day 15"
   ]
  },
  {
   "cell_type": "code",
   "execution_count": 1,
   "metadata": {},
   "outputs": [
    {
     "data": {
      "text/plain": [
       "366"
      ]
     },
     "execution_count": 1,
     "metadata": {},
     "output_type": "execute_result"
    }
   ],
   "source": [
    "from enum import Enum\n",
    "\n",
    "Direction = Enum('Direction', 'U R D L')\n",
    "\n",
    "class Point:\n",
    "    def __init__(self, y, x, risk_factor):\n",
    "        self.y = y\n",
    "        self.x = x\n",
    "        self.risk_factor = risk_factor\n",
    "        self.direction = None\n",
    "        self.neighbours_risk_factor = 0\n",
    "    def __repr__(self):\n",
    "        if self.direction:\n",
    "            return f'{self.direction.name}{self.neighbours_risk_factor}'\n",
    "        else:\n",
    "            return str(self.risk_factor)\n",
    "    def total_risk_factor(self):\n",
    "        return self.risk_factor + self.neighbours_risk_factor\n",
    "    \n",
    "def chart(points):\n",
    "    canvas = [\n",
    "        [0] * len(points[0])\n",
    "        for _ in range(len(points))\n",
    "    ]\n",
    "    for p in walk_path(points):\n",
    "        canvas[p.y][p.x] = 1\n",
    "    return canvas   \n",
    "    \n",
    "def get_val(y, x, arr):\n",
    "    try:\n",
    "        if (x < 0) or (y < 0):\n",
    "            return None\n",
    "        return arr[y][x]\n",
    "    except Exception:\n",
    "        return None\n",
    "    \n",
    "def fill_point(point, points):    \n",
    "    dn = get_val(point.y+1, point.x, points)\n",
    "    rn = get_val(point.y, point.x+1, points)\n",
    "    if dn:\n",
    "        if rn and (rn.total_risk_factor() < dn.total_risk_factor()):\n",
    "            point.direction = Direction.R\n",
    "            point.neighbours_risk_factor = rn.total_risk_factor()\n",
    "        else:\n",
    "            point.direction = Direction.D\n",
    "            point.neighbours_risk_factor = dn.total_risk_factor()\n",
    "    elif rn:\n",
    "        point.direction = Direction.R        \n",
    "        point.neighbours_risk_factor = rn.total_risk_factor()        \n",
    "        \n",
    "def fill_points(points):\n",
    "    for line in points[::-1]:\n",
    "        for point in line[::-1]:\n",
    "            fill_point(point, points)\n",
    "            \n",
    "def walk_path(points):\n",
    "    point = points[0][0]\n",
    "    y, x = point.y, point.x\n",
    "    while True:\n",
    "        yield point\n",
    "        if point.direction == Direction.U:\n",
    "            y -= 1\n",
    "        elif point.direction == Direction.D:\n",
    "            y += 1\n",
    "        elif point.direction == Direction.L:\n",
    "            x -= 1\n",
    "        elif point.direction == Direction.R:\n",
    "            x += 1\n",
    "        else:\n",
    "            break        \n",
    "        point = points[y][x]\n",
    "\n",
    "with open('day15.txt', 'r') as f:\n",
    "    lines = (line.strip() for line in f)\n",
    "    points = [\n",
    "        [Point(i, j, int(n)) for j, n in enumerate(line)]\n",
    "        for i, line in enumerate(lines)\n",
    "    ]      \n",
    "point = points[1][2]\n",
    "fill_points(points)\n",
    "points[0][0].neighbours_risk_factor"
   ]
  },
  {
   "cell_type": "code",
   "execution_count": 2,
   "metadata": {},
   "outputs": [
    {
     "name": "stdout",
     "output_type": "stream",
     "text": [
      "2837\n"
     ]
    }
   ],
   "source": [
    "def make_point(y, x, points, m, n):\n",
    "    point = points[y % m][x % n]\n",
    "    risk_factor = point.risk_factor + (y // m) + (x // n)\n",
    "    if risk_factor >= 10:\n",
    "        risk_factor -= 9\n",
    "    return Point(y, x, risk_factor)\n",
    "m, n = len(points), len(points[0])\n",
    "new_points = [\n",
    "    [make_point(y, x, points, m, n) for x in range(5*n)]\n",
    "    for y in range(5*m)\n",
    "]\n",
    "fill_points(new_points)\n",
    "print(new_points[0][0].neighbours_risk_factor)"
   ]
  },
  {
   "cell_type": "code",
   "execution_count": 4,
   "metadata": {},
   "outputs": [
    {
     "data": {
      "image/png": "[encoded data removed]",
      "text/plain": [
       "<Figure size 432x288 with 2 Axes>"
      ]
     },
     "metadata": {
      "needs_background": "light"
     },
     "output_type": "display_data"
    }
   ],
   "source": [
    "import matplotlib.pyplot as plt\n",
    "\n",
    "_, (a, b) = plt.subplots(1, 2)\n",
    "a.set_title('points')\n",
    "b.set_title('new_points')\n",
    "a.imshow(chart(points))\n",
    "b.imshow(chart(new_points))\n",
    "plt.show()"
   ]
  },
  {
   "cell_type": "code",
   "execution_count": 5,
   "metadata": {},
   "outputs": [
    {
     "data": {
      "image/png": "[encoded data removed]",
      "text/plain": [
       "<Figure size 432x288 with 3 Axes>"
      ]
     },
     "metadata": {
      "needs_background": "light"
     },
     "output_type": "display_data"
    }
   ],
   "source": [
    "cavern_h = [\n",
    "    [1, 1, 9, 9],\n",
    "    [9, 1, 9, 9],\n",
    "    [1, 1, 9, 9],\n",
    "    [1, 9, 9, 9],\n",
    "    [1, 1, 1, 1],\n",
    "]\n",
    "points_h = [\n",
    "    [Point(i, j, n) for j, n in enumerate(row)]\n",
    "    for i, row in enumerate(cavern_h)\n",
    "]\n",
    "fill_points(points_h)\n",
    "_, (a, b, c) = plt.subplots(1, 3)\n",
    "a.set_title('cavern_h')\n",
    "b.set_title('points_h')\n",
    "c.set_title('chart_h')\n",
    "a.imshow(cavern_h)\n",
    "b.imshow([\n",
    "    [p.total_risk_factor() for p in row]\n",
    "    for row in points_h\n",
    "])\n",
    "c.imshow(chart(points_h))\n",
    "plt.show()"
   ]
  },
  {
   "cell_type": "code",
   "execution_count": 6,
   "metadata": {},
   "outputs": [
    {
     "data": {
      "image/png": "[encoded data removed]",
      "text/plain": [
       "<Figure size 432x288 with 3 Axes>"
      ]
     },
     "metadata": {
      "needs_background": "light"
     },
     "output_type": "display_data"
    }
   ],
   "source": [
    "cavern_v = [\n",
    "    [cavern_h[j][i] for j in range(len(cavern_h))]\n",
    "    for i in range(len(cavern_h[0]))\n",
    "]\n",
    "points_v = [\n",
    "    [Point(i, j, n) for j, n in enumerate(row)]\n",
    "    for i, row in enumerate(cavern_v)\n",
    "]\n",
    "fill_points(points_v)\n",
    "_, (a, b, c) = plt.subplots(1, 3)\n",
    "a.set_title('cavern_v')\n",
    "b.set_title('points_v')\n",
    "c.set_title('chart_v')\n",
    "a.imshow(cavern_v)\n",
    "b.imshow([\n",
    "    [p.total_risk_factor() for p in row]\n",
    "    for row in points_v\n",
    "])\n",
    "c.imshow(chart(points_v))\n",
    "plt.show()"
   ]
  }
 ],
 "metadata": {
  "interpreter": {
   "hash": "0b6ea5cf3e2da3c7841276324063e181e5e9dff87f4d073f77c688a5b383f5e2"
  },
  "kernelspec": {
   "display_name": "Python 3.7.4 64-bit ('base': conda)",
   "language": "python",
   "name": "python3"
  },
  "language_info": {
   "codemirror_mode": {
    "name": "ipython",
    "version": 3
   },
   "file_extension": ".py",
   "mimetype": "text/x-python",
   "name": "python",
   "nbconvert_exporter": "python",
   "pygments_lexer": "ipython3",
   "version": "3.7.4"
  },
  "orig_nbformat": 4
 },
 "nbformat": 4,
 "nbformat_minor": 2
}
