{
 "cells": [
  {
   "cell_type": "markdown",
   "metadata": {},
   "source": [
    "# Day 17"
   ]
  },
  {
   "cell_type": "code",
   "execution_count": 1,
   "metadata": {},
   "outputs": [],
   "source": [
    "from itertools import takewhile\n",
    "import math\n",
    "\n",
    "def parse_range(rng):\n",
    "    _, rng = rng.strip().split('=')\n",
    "    return [int(n) for n in rng.split('..')]\n",
    "\n",
    "def parse_target_area(s):\n",
    "    _, s = s.split(':')\n",
    "    return [parse_range(rng) for rng in s.strip().split(',')]\n",
    "\n",
    "def probe(vx, vy):\n",
    "    x, y = 0, 0\n",
    "    while True:\n",
    "        x += vx\n",
    "        y += vy\n",
    "        if vx != 0:\n",
    "            vx -= 1 if vx > 0 else -1\n",
    "        vy -= 1\n",
    "        yield x, y\n",
    "        \n",
    "def shoot(vx, vy, xrng, yrng):\n",
    "    g = probe(vx, vy)\n",
    "    return [*takewhile(\n",
    "        lambda t: t[0] <= xrng[1] and t[1] >= yrng[0],\n",
    "        g\n",
    "    )]\n",
    "        \n",
    "def find_all_vx(x_min, x_max):\n",
    "    if x_min >= 0:\n",
    "        k = 1\n",
    "    elif x_max >= 0:\n",
    "        return 0\n",
    "    else:\n",
    "        x_min, x_max = -x_max, -x_min\n",
    "        k = -1\n",
    "    g = (math.sqrt(8*x + 1) for x in range(x_min, x_max+1))\n",
    "    xarr = (int(x) for x in g if not x % 1)\n",
    "    return (k * (x - 1) // 2 for x in xarr)\n",
    "\n",
    "minmax = lambda *args: (min(args), max(args))\n",
    "\n",
    "def check_vy(vy, y_min, y_max):\n",
    "    height = vy * (vy + 1) // 2\n",
    "    y_min = height - y_min\n",
    "    y_max = height - y_max\n",
    "    y_min, y_max = minmax(y_min, y_max)\n",
    "    g = (math.sqrt(8*y + 1) for y in range(y_min, y_max+1))\n",
    "    return height, bool([int(x) for x in g if not x % 1])\n",
    "\n",
    "def find_vy_and_height(y_min, y_max, height_max=0):\n",
    "    vy, height = 0, 0\n",
    "    while True:\n",
    "        vy_next = vy + 1\n",
    "        height_next, in_target = check_vy(vy_next, y_min, y_max)\n",
    "        if not in_target and height_next > height_max:\n",
    "            return vy, height\n",
    "        vy = vy_next\n",
    "        height = height_next\n",
    "        \n",
    "def find_max_height(xrng, yrng, *, height_max=0):\n",
    "    vx = next(find_all_vx(*xrng))\n",
    "    vy, height = find_vy_and_height(*yrng, height_max=height_max)\n",
    "    return height, (vx, vy)\n",
    "\n",
    "def process_and_check(s, *, height_max=0):\n",
    "    xrng, yrng = parse_target_area(s)\n",
    "    height, v = find_max_height(xrng, yrng, height_max=height_max)\n",
    "    path = shoot(v[0], v[1], xrng, yrng)\n",
    "    assert height == max(y for _, y in path)\n",
    "    print(f'Maximum height for target_area {[xrng, yrng]} is {height} and is reached with v = {v}')"
   ]
  },
  {
   "cell_type": "code",
   "execution_count": 2,
   "metadata": {},
   "outputs": [
    {
     "name": "stdout",
     "output_type": "stream",
     "text": [
      "Maximum height for target_area [[20, 30], [-10, -5]] is 45 and is reached with v = (6, 9)\n",
      "Maximum height for target_area [[88, 125], [-157, -103]] is 12246 and is reached with v = (13, 156)\n"
     ]
    }
   ],
   "source": [
    "s = 'target area: x=20..30, y=-10..-5'\n",
    "process_and_check(s)\n",
    "with open('day17.txt', 'r') as f:\n",
    "    process_and_check(f.read(), height_max=12000)"
   ]
  },
  {
   "cell_type": "code",
   "execution_count": 3,
   "metadata": {},
   "outputs": [
    {
     "name": "stdout",
     "output_type": "stream",
     "text": [
      "6 7\n"
     ]
    }
   ],
   "source": [
    "s = 'target area: x=20..30, y=-10..-5'\n",
    "xrng, yrng = parse_target_area(s)\n",
    "print(*find_all_vx(*xrng))"
   ]
  },
  {
   "cell_type": "code",
   "execution_count": 4,
   "metadata": {},
   "outputs": [
    {
     "data": {
      "text/plain": [
       "((6, 30), (-10, 9))"
      ]
     },
     "execution_count": 4,
     "metadata": {},
     "output_type": "execute_result"
    }
   ],
   "source": [
    "from itertools import chain, tee\n",
    "import re\n",
    "regexp = re.compile(r'\\s+')\n",
    "\n",
    "g = '''\n",
    "23,-10  25,-9   27,-5   29,-6   22,-6   21,-7   9,0     27,-7   24,-5\n",
    "25,-7   26,-6   25,-5   6,8     11,-2   20,-5   29,-10  6,3     28,-7\n",
    "8,0     30,-6   29,-8   20,-10  6,7     6,4     6,1     14,-4   21,-6\n",
    "26,-10  7,-1    7,7     8,-1    21,-9   6,2     20,-7   30,-10  14,-3\n",
    "20,-8   13,-2   7,3     28,-8   29,-9   15,-3   22,-5   26,-8   25,-8\n",
    "25,-6   15,-4   9,-2    15,-2   12,-2   28,-9   12,-3   24,-6   23,-7\n",
    "25,-10  7,8     11,-3   26,-7   7,1     23,-9   6,0     22,-10  27,-6\n",
    "8,1     22,-8   13,-4   7,6     28,-6   11,-4   12,-4   26,-9   7,4\n",
    "24,-10  23,-8   30,-8   7,0     9,-1    10,-1   26,-5   22,-9   6,5\n",
    "7,5     23,-6   28,-10  10,-2   11,-1   20,-9   14,-2   29,-7   13,-3\n",
    "23,-5   24,-8   27,-9   30,-7   28,-5   21,-10  7,9     6,6     21,-5\n",
    "27,-10  7,2     30,-9   21,-8   22,-7   24,-9   20,-6   6,9     29,-5\n",
    "8,-2    27,-8   30,-5   24,-7\n",
    "'''.strip().split('\\n')\n",
    "\n",
    "g = chain.from_iterable(regexp.split(line) for line in g)\n",
    "g = (x.split(',') for x in g)\n",
    "g = ([int(n) for n in t] for t in g)\n",
    "x_arr, y_arr = tee(g, 2)\n",
    "x_arr, y_arr = [x for x, y in x_arr], [y for _, y in y_arr]\n",
    "minmax(*x_arr), minmax(*y_arr)"
   ]
  },
  {
   "cell_type": "code",
   "execution_count": 5,
   "metadata": {},
   "outputs": [],
   "source": [
    "def check_point(p, xrng, yrng):\n",
    "    x, y = p\n",
    "    return x >= xrng[0] and y <= yrng[1]\n",
    "\n",
    "def check_path(path, xrng, yrng):\n",
    "    return any(check_point(p, xrng, yrng) for p in path)\n",
    "\n",
    "def analyze(vxrng, vyrng, xrng, yrng):\n",
    "    d = {\n",
    "        (vx, vy): shoot(vx, vy, xrng, yrng)\n",
    "        for vx in range(vxrng[0], vxrng[1] + 1)\n",
    "        for vy in range(vyrng[0], vyrng[1] + 1)\n",
    "    }\n",
    "    d = {\n",
    "        v: max(y for _, y in path)\n",
    "        for v, path in d.items()\n",
    "        if check_path(path, xrng, yrng)\n",
    "    }\n",
    "    return d"
   ]
  },
  {
   "cell_type": "code",
   "execution_count": 6,
   "metadata": {},
   "outputs": [
    {
     "name": "stdout",
     "output_type": "stream",
     "text": [
      "112\n"
     ]
    },
    {
     "data": {
      "text/plain": [
       "45"
      ]
     },
     "execution_count": 6,
     "metadata": {},
     "output_type": "execute_result"
    }
   ],
   "source": [
    "d = analyze((6, 30), (-10, 9), (20, 30), (-10, -5))\n",
    "print(len(d))\n",
    "max(d.values())"
   ]
  },
  {
   "cell_type": "code",
   "execution_count": 7,
   "metadata": {},
   "outputs": [
    {
     "data": {
      "text/plain": [
       "([88, 125], [-157, -103])"
      ]
     },
     "execution_count": 7,
     "metadata": {},
     "output_type": "execute_result"
    }
   ],
   "source": [
    "with open('day17.txt', 'r') as f:\n",
    "    xrng, yrng = parse_target_area(f.read())\n",
    "xrng, yrng"
   ]
  },
  {
   "cell_type": "code",
   "execution_count": 8,
   "metadata": {},
   "outputs": [
    {
     "name": "stdout",
     "output_type": "stream",
     "text": [
      "3528\n"
     ]
    },
    {
     "data": {
      "text/plain": [
       "12246"
      ]
     },
     "execution_count": 8,
     "metadata": {},
     "output_type": "execute_result"
    }
   ],
   "source": [
    "d = analyze((0, 800), (-200, 200), xrng, yrng)\n",
    "print(len(d))\n",
    "max(d.values())"
   ]
  }
 ],
 "metadata": {
  "interpreter": {
   "hash": "0b6ea5cf3e2da3c7841276324063e181e5e9dff87f4d073f77c688a5b383f5e2"
  },
  "kernelspec": {
   "display_name": "Python 3.7.4 64-bit ('base': conda)",
   "language": "python",
   "name": "python3"
  },
  "language_info": {
   "codemirror_mode": {
    "name": "ipython",
    "version": 3
   },
   "file_extension": ".py",
   "mimetype": "text/x-python",
   "name": "python",
   "nbconvert_exporter": "python",
   "pygments_lexer": "ipython3",
   "version": "3.7.4"
  },
  "orig_nbformat": 4
 },
 "nbformat": 4,
 "nbformat_minor": 2
}
