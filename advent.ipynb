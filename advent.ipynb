{
 "cells": [
  {
   "cell_type": "markdown",
   "metadata": {},
   "source": [
    "# Day 1"
   ]
  },
  {
   "cell_type": "code",
   "execution_count": 38,
   "metadata": {},
   "outputs": [
    {
     "name": "stdout",
     "output_type": "stream",
     "text": [
      "1645\n"
     ]
    }
   ],
   "source": [
    "from functools import reduce\n",
    "from operator import add\n",
    "a = None\n",
    "\n",
    "def increasing(b):\n",
    "    global a\n",
    "    if a == None:\n",
    "        result = False\n",
    "    else:\n",
    "        result = b > a\n",
    "    a = b    \n",
    "    return result\n",
    "\n",
    "\n",
    "with open('day1_1.txt', 'r') as f:\n",
    "    g = (int(line.strip()) for line in f)\n",
    "    g = (increasing(x) for x in g)\n",
    "    n = reduce(add, g)\n",
    "print(n)"
   ]
  },
  {
   "cell_type": "code",
   "execution_count": 37,
   "metadata": {},
   "outputs": [],
   "source": [
    "from itertools import tee\n",
    "\n",
    "with open('day1_2.txt', 'r') as f, open('day1_1.txt', 'w') as w:\n",
    "    g = (int(line.strip()) for line in f)\n",
    "    t = tee(g, 3)\n",
    "    for i, itr in enumerate(t):\n",
    "        for _ in range(i):\n",
    "            next(itr)\n",
    "    w.writelines(f'{sum(t)}\\n' for t in zip(*t))"
   ]
  },
  {
   "cell_type": "markdown",
   "metadata": {},
   "source": [
    "# Day 2"
   ]
  },
  {
   "cell_type": "code",
   "execution_count": 27,
   "metadata": {},
   "outputs": [
    {
     "name": "stdout",
     "output_type": "stream",
     "text": [
      "1845 916 1690020\n"
     ]
    }
   ],
   "source": [
    "h_pos = 0\n",
    "depth = 0\n",
    "\n",
    "def process_command(line):\n",
    "    global h_pos, depth\n",
    "    command, arg = line.split(' ')\n",
    "    arg = int(arg)\n",
    "    if command == 'down':\n",
    "        depth += arg\n",
    "    elif command == 'up':\n",
    "        depth -= arg\n",
    "    else:\n",
    "        h_pos += arg\n",
    "        \n",
    "with open('day2.txt', 'r') as f:\n",
    "    for line in f:\n",
    "        process_command(line)\n",
    "print(h_pos, depth, h_pos * depth)"
   ]
  },
  {
   "cell_type": "code",
   "execution_count": 29,
   "metadata": {},
   "outputs": [
    {
     "name": "stdout",
     "output_type": "stream",
     "text": [
      "1845 763408 1408487760\n"
     ]
    }
   ],
   "source": [
    "aim = 0\n",
    "h_pos = 0\n",
    "depth = 0\n",
    "\n",
    "def process_command(line):\n",
    "    global aim, h_pos, depth\n",
    "    command, arg = line.split(' ')\n",
    "    arg = int(arg)\n",
    "    if command == 'down':\n",
    "        aim += arg\n",
    "    elif command == 'up':\n",
    "        aim -= arg\n",
    "    else:\n",
    "        h_pos += arg\n",
    "        depth += arg * aim\n",
    "        \n",
    "with open('day2.txt', 'r') as f:\n",
    "    for line in f:\n",
    "        process_command(line)\n",
    "print(h_pos, depth, h_pos * depth)"
   ]
  },
  {
   "cell_type": "markdown",
   "metadata": {},
   "source": [
    "# Day 3"
   ]
  },
  {
   "cell_type": "code",
   "execution_count": 1,
   "metadata": {},
   "outputs": [
    {
     "name": "stdout",
     "output_type": "stream",
     "text": [
      "844 3251 2743844\n"
     ]
    }
   ],
   "source": [
    "def process_line(line, r_ones, r_zeroes, lines):\n",
    "    lines.append(line)\n",
    "    for i in range(len(line)):\n",
    "        n = int(line[i])\n",
    "        r_ones[i] += n\n",
    "        r_zeroes[i] += int(not n)\n",
    "        \n",
    "lines = []\n",
    "\n",
    "with open('day3.txt', 'r') as f:\n",
    "    line = next(f).strip()\n",
    "    n = len(line)\n",
    "    r_ones = [0] * n\n",
    "    r_zeroes = [0] * n\n",
    "    process_line(line, r_ones, r_zeroes, lines)\n",
    "    for line in f:\n",
    "        process_line(line.strip(), r_ones, r_zeroes, lines)\n",
    "\n",
    "gamma = [int(a >= b) for a, b in zip(r_ones, r_zeroes)]\n",
    "epsilon = [int(not a) for a in gamma]\n",
    "gamma = f'0b{\"\".join(str(n) for n in gamma)}'\n",
    "epsilon = f'0b{\"\".join(str(n) for n in epsilon)}'\n",
    "gamma = eval(gamma)\n",
    "epsilon = eval(epsilon)\n",
    "print(gamma, epsilon, gamma * epsilon)"
   ]
  },
  {
   "cell_type": "code",
   "execution_count": 2,
   "metadata": {},
   "outputs": [
    {
     "name": "stdout",
     "output_type": "stream",
     "text": [
      "1981 3371 6677951\n"
     ]
    }
   ],
   "source": [
    "def check(digit, n_ones, n_zeroes, isOx):\n",
    "    if isOx:\n",
    "        return ((digit == '1') and n_ones >= n_zeroes) or ((digit == '0') and n_ones < n_zeroes)\n",
    "    else:\n",
    "        return ((digit == '0') and n_ones >= n_zeroes) or ((digit == '1') and n_ones < n_zeroes)\n",
    "\n",
    "def find_gas(lines, n_ones, n_zeroes, isOx):\n",
    "    index = 0\n",
    "    while True:        \n",
    "        lines = [line for line in lines if check(line[index], n_ones, n_zeroes, isOx)]\n",
    "        if len(lines) == 1:            \n",
    "            return eval(f'0b{lines[0]}')\n",
    "        index += 1\n",
    "        n_ones = sum(int(line[index]) for line in lines)\n",
    "        n_zeroes = sum(not int(line[index]) for line in lines)\n",
    "\n",
    "o, c =[find_gas(lines, r_ones[0], r_zeroes[0], isOx) for isOx in (True, False)] \n",
    "print(o, c, o*c)"
   ]
  },
  {
   "cell_type": "markdown",
   "metadata": {},
   "source": [
    "# Day 4"
   ]
  },
  {
   "cell_type": "code",
   "execution_count": 163,
   "metadata": {},
   "outputs": [
    {
     "name": "stdout",
     "output_type": "stream",
     "text": [
      "55770 2980\n"
     ]
    }
   ],
   "source": [
    "from itertools import islice, chain\n",
    "import re\n",
    "\n",
    "class Board:\n",
    "    \n",
    "    regexp = re.compile(r'\\s+')\n",
    "    \n",
    "    @classmethod    \n",
    "    def _format_el(cls, el, marked):\n",
    "        if marked:\n",
    "            return f'({el})'\n",
    "        else:\n",
    "            return el\n",
    "    \n",
    "    def __init__(self, lines):\n",
    "        self.rows = [\n",
    "            {int(el): False for el in Board.regexp.split(line)}\n",
    "            for line in lines\n",
    "        ]\n",
    "        self.sidelen = len(self.rows)        \n",
    "        self.win = False\n",
    "        self.score = 0\n",
    "        \n",
    "    def play(self, n):\n",
    "        had_n = False\n",
    "        for row in self.rows:\n",
    "            if n in row:\n",
    "                row[n] = True\n",
    "                had_n = True\n",
    "        if had_n:\n",
    "            self._check_win()\n",
    "            if self.win:\n",
    "                self._calc_score(n)\n",
    "        return self.win\n",
    "        \n",
    "    def __bool__(self):\n",
    "        return bool(self.sidelen)\n",
    "    \n",
    "    def __str__(self):\n",
    "        arr = []\n",
    "        arr.append(f'win: {self.win}, score: {self.score}')\n",
    "        arr.extend(\n",
    "            '\\t'.join(f'{self._format_el(el, marked):^4}' for el, marked in row.items())\n",
    "            for row in self.rows\n",
    "        )\n",
    "        return '\\n'.join(arr)\n",
    "            \n",
    "    def _calc_score(self, n):\n",
    "        self.score = sum(\n",
    "            sum(k for k, v in row.items() if not v)\n",
    "            for row in self.rows\n",
    "        ) * n\n",
    "    \n",
    "    def _check_win(self):\n",
    "        if not self.win:\n",
    "            self.win = any(\n",
    "                all(row.values())\n",
    "                for row in self.rows\n",
    "            )\n",
    "        if not self.win:\n",
    "            self.win = any(\n",
    "                all(col)\n",
    "                for col in zip(*[row.values() for row in self.rows])\n",
    "            )\n",
    "\n",
    "def board_generator(g):\n",
    "    while True:\n",
    "        result = Board(islice(g, 0, 5))\n",
    "        if result:\n",
    "            yield result\n",
    "        else:\n",
    "            break\n",
    "    \n",
    "def play_number(n, boards):\n",
    "    boards = (board for board in boards if not board.win)\n",
    "    return [\n",
    "        board.score\n",
    "        for board in boards\n",
    "        if board.play(n)\n",
    "    ]    \n",
    "\n",
    "with open('day4.txt', 'r') as f:\n",
    "    g = (line.strip() for line in f)\n",
    "    line = next(g).split(',')\n",
    "    inp_arr = [int(el) for el in line]\n",
    "    g = (line for line in g if line)\n",
    "    boards = [*board_generator(g)]\n",
    "scores = chain.from_iterable(\n",
    "    play_number(n, boards)\n",
    "    for n in inp_arr\n",
    ")\n",
    "scores = [score for score in scores if score]\n",
    "print(scores[0], scores[-1])"
   ]
  },
  {
   "cell_type": "code",
   "execution_count": null,
   "metadata": {},
   "outputs": [],
   "source": [
    "# For checking that each number is unique in a row\n",
    "\n",
    "regexp = re.compile(r'\\s+')\n",
    "with open('day4.txt', 'r') as f:\n",
    "    g = (line.strip() for line in f)\n",
    "    next(g)    \n",
    "    g = (set(regexp.split(line)) for line in g if line)\n",
    "    assert all(len(line) == 5 for line in g)"
   ]
  },
  {
   "cell_type": "markdown",
   "metadata": {},
   "source": [
    "# Day 5"
   ]
  },
  {
   "cell_type": "code",
   "execution_count": 35,
   "metadata": {},
   "outputs": [
    {
     "name": "stdout",
     "output_type": "stream",
     "text": [
      "max coord: 990\n",
      "number of intersections: 19349\n"
     ]
    }
   ],
   "source": [
    "from collections import namedtuple\n",
    "from itertools import chain\n",
    "\n",
    "LineOfVents = namedtuple('LineOfVents', 'x0 y0 x1 y1')\n",
    "def parse_line(line):\n",
    "    g = (el.strip().split(',') for el in line.split('->'))\n",
    "    g = (\n",
    "        (int(el) for el in t)\n",
    "        for t in g\n",
    "    )\n",
    "    (x0, y0), (x1, y1) = g\n",
    "    return LineOfVents(x0, y0, x1, y1)\n",
    "\n",
    "def minmax(a, b):\n",
    "    return min(a, b), max(a, b)\n",
    "\n",
    "def draw_point(x, y, canvas):    \n",
    "    if canvas[y][x] == '.':\n",
    "        canvas[y][x] = 1\n",
    "    else:\n",
    "        canvas[y][x] += 1\n",
    "        \n",
    "def draw_line(line, canvas):\n",
    "    if line.y0 == line.y1:\n",
    "        x0, x1 = minmax(line.x0, line.x1)\n",
    "        y = line.y0\n",
    "        for x in range(x0, x1+1):\n",
    "            draw_point(x, y, canvas)\n",
    "    elif line.x0 == line.x1:\n",
    "        x = line.x0\n",
    "        y0, y1 = minmax(line.y0, line.y1)\n",
    "        for y in range(y0, y1+1):\n",
    "            draw_point(x, y, canvas)\n",
    "    else:\n",
    "        x0, x1 = minmax(line.x0, line.x1)\n",
    "        length = x1 - x0\n",
    "        x0, y0, x1, y1 = line\n",
    "        xc = 1 if x1 > x0 else -1\n",
    "        yc = 1 if y1 > y0 else -1\n",
    "        x, y = x0, y0\n",
    "        for _ in range(length+1):\n",
    "            draw_point(x, y, canvas)\n",
    "            x += xc\n",
    "            y += yc\n",
    "\n",
    "with open('day5.txt', 'r') as f:\n",
    "    n = max(max(parse_line(line)) for line in f)\n",
    "\n",
    "print('max coord:', n)\n",
    "\n",
    "canvas = [\n",
    "    # ['.'] * (n+1)\n",
    "    [0] * (n+1)\n",
    "    for _ in range(n+1)\n",
    "]\n",
    "    \n",
    "with open('day5.txt', 'r') as f:\n",
    "    g = (parse_line(line) for line in f)\n",
    "    # g = (v for v in g if (v.x0 == v.x1) or (v.y0 == v.y1))\n",
    "    for line in g:\n",
    "        draw_line(line, canvas)\n",
    "c = chain.from_iterable(canvas)\n",
    "print('number of intersections:', len([p for p in c if p > 1]))\n",
    "# for row in canvas:\n",
    "#     print(' '.join(str(el) for el in row))"
   ]
  },
  {
   "cell_type": "markdown",
   "metadata": {},
   "source": [
    "# Day 6"
   ]
  },
  {
   "cell_type": "code",
   "execution_count": 333,
   "metadata": {},
   "outputs": [
    {
     "name": "stdout",
     "output_type": "stream",
     "text": [
      "26\n"
     ]
    }
   ],
   "source": [
    "# Modeling approach -- works for part 1, but too time-consuming for part 2\n",
    "\n",
    "days_passed = 0\n",
    "\n",
    "def pass_day(fishes):\n",
    "    global days_passed\n",
    "    requires_printing = False\n",
    "    days_passed += 1\n",
    "    new_fishes = []\n",
    "    for i, fish in enumerate(fishes):\n",
    "        fish -= 1\n",
    "        if fish < 0:\n",
    "            fish = 6\n",
    "            new_fishes.append(8)\n",
    "            requires_printing = True\n",
    "        fishes[i] = fish\n",
    "    fishes.extend(new_fishes)\n",
    "    # if requires_printing:\n",
    "    #     print(days_passed, fishes)\n",
    "    \n",
    "\n",
    "def pass_days(days, fishes):\n",
    "    for _ in range(days):\n",
    "        pass_day(fishes)\n",
    "\n",
    "with open('day6.txt', 'r') as f:\n",
    "    fishes = [int(x) for x in f.read().strip().split(',')]\n",
    "\n",
    "# fishes = [3]\n",
    "        \n",
    "pass_days(18, fishes)\n",
    "# pass_days(80, fishes)\n",
    "# pass_days(256, fishes)\n",
    "# print(fishes)\n",
    "print(len(fishes))\n",
    "# print(fishes)"
   ]
  },
  {
   "cell_type": "code",
   "execution_count": null,
   "metadata": {},
   "outputs": [],
   "source": [
    "# Calculating approach -- same problem as the modeling approach\n",
    "\n",
    "def direct_children(days_till_new_child, days_total):\n",
    "    # because the child would be created after 0, when the timer gets reset to 6\n",
    "    days_till_new_child += 1    \n",
    "    if days_total < days_till_new_child:\n",
    "        # The fish won't be able to make any children in such a short amount of days\n",
    "        return 0\n",
    "    else:\n",
    "        # The fish would make 1 child + a child per each 7 days until the end of the period\n",
    "        return 1 + (days_total - days_till_new_child) // 7\n",
    "    \n",
    "def total_children(days_till_new_child, days_total):\n",
    "    dc = direct_children(days_till_new_child, days_total)\n",
    "    if dc == 0:\n",
    "        return 0\n",
    "    return dc + sum(\n",
    "        total_children(\n",
    "            days_till_new_child = 8,\n",
    "            days_total = days_total - ( (days_till_new_child + 1) + (7 * i) )            \n",
    "        )\n",
    "        for i in range(dc)\n",
    "    )\n",
    "    \n",
    "with open('day6.txt', 'r') as f:\n",
    "    fishes = [int(x) for x in f.read().strip().split(',')]\n",
    "    \n",
    "s = set(fishes)\n",
    "for fish in s:\n",
    "    print(total_children(fish, 256))\n",
    "# len(fishes) + sum(total_children(fish, 256) for fish in fishes)"
   ]
  },
  {
   "cell_type": "code",
   "execution_count": 41,
   "metadata": {},
   "outputs": [
    {
     "data": {
      "text/plain": [
       "1732821262171"
      ]
     },
     "execution_count": 41,
     "metadata": {},
     "output_type": "execute_result"
    }
   ],
   "source": [
    "# Works for both parts\n",
    "\n",
    "from collections import Counter\n",
    "\n",
    "def pass_day(fishes):\n",
    "    n = fishes[0]\n",
    "    fishes[0] = 0\n",
    "    for i in range(1, 9):        \n",
    "        fishes[i-1] += fishes[i]\n",
    "        fishes[i] = 0\n",
    "    fishes[8] += n\n",
    "    fishes[6] += n\n",
    "    \n",
    "def pass_days(days, fishes):\n",
    "    for _ in range(days):\n",
    "        pass_day(fishes)\n",
    "\n",
    "with open('day6.txt', 'r') as f:\n",
    "    fishes = [int(x) for x in f.read().strip().split(',')]\n",
    "\n",
    "fishes = Counter(fishes)\n",
    "pass_days(256, fishes)\n",
    "sum(fishes.values())"
   ]
  },
  {
   "cell_type": "markdown",
   "metadata": {},
   "source": [
    "# Day 7"
   ]
  },
  {
   "cell_type": "code",
   "execution_count": 16,
   "metadata": {},
   "outputs": [
    {
     "name": "stdout",
     "output_type": "stream",
     "text": [
      "(2, 37)\n"
     ]
    }
   ],
   "source": [
    "def align(positions, target):\n",
    "    return sum(abs(target - position) for position in positions)\n",
    "\n",
    "def align_optimal(positions):\n",
    "    results = {\n",
    "        align(positions, i): i\n",
    "        for i in range(min(positions), max(positions) + 1)\n",
    "    }\n",
    "    optimal_fuel = min(results)\n",
    "    return results[optimal_fuel], optimal_fuel\n",
    "\n",
    "with open('day7.txt', 'r') as f:\n",
    "    positions = [int(el) for el in f.read().strip().split(',')]\n",
    "\n",
    "print(align_optimal(positions))"
   ]
  },
  {
   "cell_type": "code",
   "execution_count": 25,
   "metadata": {},
   "outputs": [
    {
     "name": "stdout",
     "output_type": "stream",
     "text": [
      "(484, 93397632)\n"
     ]
    }
   ],
   "source": [
    "def align(positions, target):\n",
    "    return sum(abs(target - position) * (1 + abs(target - position)) // 2 for position in positions)\n",
    "\n",
    "def align_optimal(positions):\n",
    "    results = {\n",
    "        align(positions, i): i\n",
    "        for i in range(min(positions), max(positions) + 1)\n",
    "    }\n",
    "    optimal_fuel = min(results)\n",
    "    return results[optimal_fuel], optimal_fuel\n",
    "\n",
    "with open('day7.txt', 'r') as f:\n",
    "    positions = [int(el) for el in f.read().strip().split(',')]\n",
    "\n",
    "print(align_optimal(positions))"
   ]
  },
  {
   "cell_type": "markdown",
   "metadata": {},
   "source": [
    "# Day 8"
   ]
  },
  {
   "cell_type": "code",
   "execution_count": 22,
   "metadata": {},
   "outputs": [
    {
     "name": "stdout",
     "output_type": "stream",
     "text": [
      "440\n"
     ]
    }
   ],
   "source": [
    "from itertools import chain\n",
    "\n",
    "with open('day8.txt', 'r') as f:\n",
    "    g = (line.strip().split('|') for line in f)        \n",
    "    g = (arr[1].strip().split(' ') for arr in g)\n",
    "    g = chain.from_iterable(g)    \n",
    "    unique_outputs = [s for s in g if len(s) in {2, 4, 3, 7}]\n",
    "print(len(unique_outputs))\n",
    "    "
   ]
  },
  {
   "cell_type": "code",
   "execution_count": 75,
   "metadata": {},
   "outputs": [
    {
     "name": "stdout",
     "output_type": "stream",
     "text": [
      "1046281\n"
     ]
    }
   ],
   "source": [
    "from collections import Counter\n",
    "\n",
    "working_display = {\n",
    "    'abcefg': '0',\n",
    "    'cf': '1',\n",
    "    'acdeg': '2',\n",
    "    'acdfg': '3',\n",
    "    'bcdf': '4',\n",
    "    'abdfg': '5',\n",
    "    'abdefg': '6',\n",
    "    'acf': '7',\n",
    "    'abcdefg': '8',\n",
    "    'abcdfg': '9'\n",
    "}\n",
    "\n",
    "def formalize(data):\n",
    "    return data.strip().split(' ')\n",
    "\n",
    "def analyze_patterns(patterns):\n",
    "    mapping = {}\n",
    "    patterns = formalize(patterns)\n",
    "    \n",
    "    #Counting how many times each segment is used for making 10 digits\n",
    "    counter = Counter(''.join(patterns))    \n",
    "    segments_by_usage = {v: k for k, v in counter.items()}\n",
    "    \n",
    "    # each of these segments have unique amount of usages.\n",
    "    # for example, segment f is used in all digits except 2, so it has 9 usages out of 10\n",
    "    # no other segment is used 9 times to make numbers 0-9\n",
    "    # similarily, only segment b is used 6 times out of 10\n",
    "    # and only segment e is used 4 times out of 10\n",
    "    b, e, f = (segments_by_usage[i] for i in [6, 4, 9])\n",
    "    mapping[b] = 'b'\n",
    "    mapping[e] = 'e'\n",
    "    mapping[f] = 'f'\n",
    "    \n",
    "    patterns_by_length = {len(pattern): pattern for pattern in patterns}\n",
    "    \n",
    "    # the pattern with length 2 corresponds to number 1 which consists of segments c and f\n",
    "    # as we already know segment f, we can now find segment c\n",
    "    c = next(segment for segment in patterns_by_length[2] if segment != f)\n",
    "    mapping[c] = 'c'\n",
    "    \n",
    "    # the pattern with length 3 corresponds to number 7 which consists of segments a, c and f\n",
    "    # as we already know the other two, we can now find segment a\n",
    "    a = next(segment for segment in patterns_by_length[3] if segment not in {c, f})\n",
    "    mapping[a] = 'a'\n",
    "    \n",
    "    # the pattern with length 4 corresponds to number 4 which consists of segments b, c, d and f\n",
    "    # as we already know the other three, we can now find segment d\n",
    "    d = next(segment for segment in patterns_by_length[4] if segment not in {b, c, f})\n",
    "    mapping[d] = 'd'\n",
    "    \n",
    "    # the pattern with length 7 corresponds to number 8 which consists of all segments\n",
    "    # as we already know the other six, we can now find segment g\n",
    "    g = next(segment for segment in patterns_by_length[7] if segment not in {a, b, c, d, e, f})\n",
    "    mapping[g] = 'g'\n",
    "    return mapping\n",
    "\n",
    "def read_output(output, mapping):\n",
    "    # finding which segments were supposed to be activated and creating a combination of them\n",
    "    output = sorted(mapping[c] for c in output)\n",
    "    output = ''.join(output)\n",
    "    # returning the value that corresponds to this combination of segments\n",
    "    return working_display[output]\n",
    "\n",
    "def read_outputs(outputs, mapping):\n",
    "    return ''.join(read_output(output, mapping) for output in formalize(outputs))\n",
    "\n",
    "def process_line(line):\n",
    "    patterns, outputs = line.split('|')\n",
    "    # dictionary {wrongly_wired_segment: correctly_wired_segment}\n",
    "    mapping = analyze_patterns(patterns)\n",
    "    return int(read_outputs(outputs, mapping))\n",
    "    \n",
    "with open('day8.txt', 'r') as f:\n",
    "    n = sum(process_line(line) for line in f)\n",
    "print(n)"
   ]
  }
 ],
 "metadata": {
  "interpreter": {
   "hash": "0b6ea5cf3e2da3c7841276324063e181e5e9dff87f4d073f77c688a5b383f5e2"
  },
  "kernelspec": {
   "display_name": "Python 3.7.4 64-bit ('base': conda)",
   "language": "python",
   "name": "python3"
  },
  "language_info": {
   "codemirror_mode": {
    "name": "ipython",
    "version": 3
   },
   "file_extension": ".py",
   "mimetype": "text/x-python",
   "name": "python",
   "nbconvert_exporter": "python",
   "pygments_lexer": "ipython3",
   "version": "3.7.4"
  },
  "orig_nbformat": 4
 },
 "nbformat": 4,
 "nbformat_minor": 2
}
