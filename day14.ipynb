{
 "cells": [
  {
   "cell_type": "markdown",
   "metadata": {},
   "source": [
    "# Day 14"
   ]
  },
  {
   "cell_type": "code",
   "execution_count": 1,
   "metadata": {},
   "outputs": [],
   "source": [
    "# Load input data\n",
    "\n",
    "def parse_rule(line):\n",
    "    p, ins = (s.strip() for s in line.split('->'))\n",
    "    a, b = p\n",
    "    return (a, b), ins\n",
    "\n",
    "with open('day14.txt', 'r') as f:\n",
    "    lines = (line.strip() for line in f)\n",
    "    template = list(next(lines))\n",
    "    next(lines)\n",
    "    rules = dict(parse_rule(line) for line in lines)"
   ]
  },
  {
   "cell_type": "code",
   "execution_count": 2,
   "metadata": {},
   "outputs": [],
   "source": [
    "# Original solution for part 1.\n",
    "# Too slow for part 2.\n",
    "\n",
    "from collections import Counter\n",
    "    \n",
    "def tick_old(template, rules):\n",
    "    template = iter(template)\n",
    "    prev_el = next(template)\n",
    "    new_template = [prev_el]\n",
    "    for next_el in template:\n",
    "        if (prev_el, next_el) in rules:\n",
    "            new_template.append(rules[(prev_el, next_el)])\n",
    "        new_template.append(next_el)\n",
    "        prev_el = next_el\n",
    "    return new_template\n",
    "\n",
    "def make_n_steps_old(n, template, rules):\n",
    "    for _ in range(n):\n",
    "        template = tick_old(template, rules)\n",
    "    template = Counter(template)    \n",
    "    elements = template.most_common()\n",
    "    print(elements)\n",
    "    print(elements[0][1] - elements[-1][1])"
   ]
  },
  {
   "cell_type": "code",
   "execution_count": 3,
   "metadata": {},
   "outputs": [],
   "source": [
    "from itertools import tee\n",
    "\n",
    "def count_pairs(template):\n",
    "    a, b = tee(template, 2)\n",
    "    next(b)    \n",
    "    return Counter(zip(a, b))\n",
    "\n",
    "def tick(element_counter, pair_counter, rules):\n",
    "    pairs = [*pair_counter.items()]\n",
    "    for (a, b), n in pairs:\n",
    "        if (a, b) in rules:\n",
    "            c = rules[(a, b)]\n",
    "            pair_counter[(a, b)] -= n\n",
    "            pair_counter[(a, c)] += n\n",
    "            pair_counter[(c, b)] += n\n",
    "            element_counter[c] += n            \n",
    "            \n",
    "def make_n_steps(n, template, rules):\n",
    "    element_counter = Counter(template)    \n",
    "    pair_counter = count_pairs(template)    \n",
    "    for _ in range(n):\n",
    "        tick(element_counter, pair_counter, rules)    \n",
    "    elements = element_counter.most_common()\n",
    "    print(elements)\n",
    "    print(elements[0][1] - elements[-1][1])    "
   ]
  },
  {
   "cell_type": "code",
   "execution_count": 4,
   "metadata": {},
   "outputs": [
    {
     "name": "stdout",
     "output_type": "stream",
     "text": [
      "[('C', 3780), ('S', 2402), ('P', 2289), ('F', 2211), ('H', 2053), ('K', 2040), ('O', 1407), ('V', 1368), ('N', 1270), ('B', 637)]\n",
      "3143\n"
     ]
    }
   ],
   "source": [
    "make_n_steps_old(10, template, rules)"
   ]
  },
  {
   "cell_type": "code",
   "execution_count": 5,
   "metadata": {},
   "outputs": [
    {
     "name": "stdout",
     "output_type": "stream",
     "text": [
      "[('C', 4580129184584), ('S', 2839199115675), ('P', 2620681635877), ('F', 2327036746225), ('H', 2324646240751), ('K', 2083647690981), ('V', 1316428617764), ('O', 1262030235815), ('N', 1067007877945), ('B', 469913582128)]\n",
      "4110215602456\n"
     ]
    }
   ],
   "source": [
    "make_n_steps(40, template, rules)"
   ]
  }
 ],
 "metadata": {
  "interpreter": {
   "hash": "0b6ea5cf3e2da3c7841276324063e181e5e9dff87f4d073f77c688a5b383f5e2"
  },
  "kernelspec": {
   "display_name": "Python 3.7.4 64-bit ('base': conda)",
   "language": "python",
   "name": "python3"
  },
  "language_info": {
   "codemirror_mode": {
    "name": "ipython",
    "version": 3
   },
   "file_extension": ".py",
   "mimetype": "text/x-python",
   "name": "python",
   "nbconvert_exporter": "python",
   "pygments_lexer": "ipython3",
   "version": "3.7.4"
  },
  "orig_nbformat": 4
 },
 "nbformat": 4,
 "nbformat_minor": 2
}
