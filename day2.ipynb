{
 "cells": [
  {
   "cell_type": "markdown",
   "metadata": {},
   "source": [
    "# Day 2"
   ]
  },
  {
   "cell_type": "code",
   "execution_count": 1,
   "metadata": {},
   "outputs": [
    {
     "name": "stdout",
     "output_type": "stream",
     "text": [
      "1845 916 1690020\n"
     ]
    }
   ],
   "source": [
    "h_pos = 0\n",
    "depth = 0\n",
    "\n",
    "def process_command(line):\n",
    "    global h_pos, depth\n",
    "    command, arg = line.split(' ')\n",
    "    arg = int(arg)\n",
    "    if command == 'down':\n",
    "        depth += arg\n",
    "    elif command == 'up':\n",
    "        depth -= arg\n",
    "    else:\n",
    "        h_pos += arg\n",
    "        \n",
    "with open('day2.txt', 'r') as f:\n",
    "    for line in f:\n",
    "        process_command(line)\n",
    "print(h_pos, depth, h_pos * depth)"
   ]
  },
  {
   "cell_type": "code",
   "execution_count": 2,
   "metadata": {},
   "outputs": [
    {
     "name": "stdout",
     "output_type": "stream",
     "text": [
      "1845 916 1690020\n"
     ]
    }
   ],
   "source": [
    "h_pos = 0\n",
    "depth = 0\n",
    "\n",
    "def process_command(line):\n",
    "    global h_pos, depth\n",
    "    command, arg = line.split(' ')\n",
    "    arg = int(arg)\n",
    "    if command == 'down':\n",
    "        depth += arg\n",
    "    elif command == 'up':\n",
    "        depth -= arg\n",
    "    else:\n",
    "        h_pos += arg\n",
    "        \n",
    "with open('day2.txt', 'r') as f:\n",
    "    for line in f:\n",
    "        process_command(line)\n",
    "print(h_pos, depth, h_pos * depth)"
   ]
  }
 ],
 "metadata": {
  "interpreter": {
   "hash": "0b6ea5cf3e2da3c7841276324063e181e5e9dff87f4d073f77c688a5b383f5e2"
  },
  "kernelspec": {
   "display_name": "Python 3.7.4 64-bit ('base': conda)",
   "language": "python",
   "name": "python3"
  },
  "language_info": {
   "codemirror_mode": {
    "name": "ipython",
    "version": 3
   },
   "file_extension": ".py",
   "mimetype": "text/x-python",
   "name": "python",
   "nbconvert_exporter": "python",
   "pygments_lexer": "ipython3",
   "version": "3.7.4"
  },
  "orig_nbformat": 4
 },
 "nbformat": 4,
 "nbformat_minor": 2
}
