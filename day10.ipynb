{
 "cells": [
  {
   "cell_type": "markdown",
   "metadata": {},
   "source": [
    "# Day 10"
   ]
  },
  {
   "cell_type": "code",
   "execution_count": 1,
   "metadata": {},
   "outputs": [
    {
     "name": "stdout",
     "output_type": "stream",
     "text": [
      "240123\n"
     ]
    }
   ],
   "source": [
    "from collections import deque\n",
    "\n",
    "opening_tokens = {\n",
    "    '(': ')',\n",
    "    '[': ']',\n",
    "    '{': '}',\n",
    "    '<': '>'\n",
    "}\n",
    "closing_tokens = {v: k for k, v in opening_tokens.items()}\n",
    "\n",
    "scores = dict(zip(closing_tokens, (3, 57, 1197, 25137)))\n",
    "\n",
    "def check_line(line):\n",
    "    sequence = deque()    \n",
    "    for c in line:\n",
    "        if c in opening_tokens:\n",
    "            sequence.append(c)\n",
    "        elif c in closing_tokens:\n",
    "            if (len(sequence) == 0) or (sequence.pop() != closing_tokens[c]):\n",
    "                return c        \n",
    "\n",
    "with open('day10.txt', 'r') as f:\n",
    "    illegal_characters = (check_line(line.strip()) for line in f)\n",
    "    print(sum(scores[ic] for ic in illegal_characters if ic))"
   ]
  },
  {
   "cell_type": "code",
   "execution_count": 2,
   "metadata": {},
   "outputs": [
    {
     "data": {
      "text/plain": [
       "3260812321"
      ]
     },
     "execution_count": 2,
     "metadata": {},
     "output_type": "execute_result"
    }
   ],
   "source": [
    "from functools import reduce\n",
    "\n",
    "completion_scores = dict(zip(closing_tokens, range(1, 5)))\n",
    "\n",
    "def complete_line(line):\n",
    "    sequence = []\n",
    "    for c in line:\n",
    "        if c in opening_tokens:\n",
    "            sequence.append(c)\n",
    "        elif c in closing_tokens:\n",
    "            sequence.pop()\n",
    "    return [opening_tokens[c] for c in sequence[::-1]]\n",
    "\n",
    "with open('day10.txt', 'r') as f:\n",
    "    lines = (line.strip() for line in f)\n",
    "    completion_sequences = (complete_line(line) for line in lines if not check_line(line))\n",
    "    final_scores = (\n",
    "        reduce(\n",
    "            lambda total, c: total * 5 + completion_scores[c],\n",
    "            seq,\n",
    "            0\n",
    "        )\n",
    "        for seq in completion_sequences\n",
    "    )\n",
    "    final_scores = sorted(final_scores)\n",
    "final_scores[len(final_scores) // 2]"
   ]
  }
 ],
 "metadata": {
  "interpreter": {
   "hash": "0b6ea5cf3e2da3c7841276324063e181e5e9dff87f4d073f77c688a5b383f5e2"
  },
  "kernelspec": {
   "display_name": "Python 3.7.4 64-bit ('base': conda)",
   "language": "python",
   "name": "python3"
  },
  "language_info": {
   "codemirror_mode": {
    "name": "ipython",
    "version": 3
   },
   "file_extension": ".py",
   "mimetype": "text/x-python",
   "name": "python",
   "nbconvert_exporter": "python",
   "pygments_lexer": "ipython3",
   "version": "3.7.4"
  },
  "orig_nbformat": 4
 },
 "nbformat": 4,
 "nbformat_minor": 2
}
