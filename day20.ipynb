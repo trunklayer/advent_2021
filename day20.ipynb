{
 "cells": [
  {
   "cell_type": "markdown",
   "metadata": {},
   "source": [
    "# Day 20"
   ]
  },
  {
   "cell_type": "code",
   "execution_count": 176,
   "metadata": {},
   "outputs": [],
   "source": [
    "from itertools import chain\n",
    "\n",
    "def get(row, col, img, reverse):\n",
    "    try:\n",
    "        return int(img[row][col] == '#')\n",
    "    except:\n",
    "        return int(reverse)\n",
    "    \n",
    "def get_index(row, col, img, reverse):\n",
    "    arr = [\n",
    "        get(i, j, img, reverse)\n",
    "        for i in range(row-1, row+2)\n",
    "        for j in range(col-1, col+2)\n",
    "    ]\n",
    "    return int(''.join(str(el) for el in arr), base=2)\n",
    "\n",
    "def enhance_el(row, col, img, alg, reverse):\n",
    "    index = get_index(row, col, img, reverse)\n",
    "    return alg[index]\n",
    "\n",
    "def filler(filler_len, padding, c):\n",
    "    for _ in range(padding):\n",
    "        yield [c] * filler_len\n",
    "\n",
    "def extender(img, padding, reverse):\n",
    "    c = '#' if reverse else '.'\n",
    "    filler_len = len(img[0]) + 2 * padding\n",
    "    subfiller = [c] * padding    \n",
    "    yield from filler(filler_len, padding, c)\n",
    "    for row in img:\n",
    "        yield [*subfiller, *row, *subfiller]\n",
    "    yield from filler(filler_len, padding, c)\n",
    "\n",
    "def enhance(img, alg, padding=2, reverse=False):\n",
    "    img = [*extender(img, padding, reverse)]\n",
    "    return [\n",
    "        [\n",
    "            enhance_el(i, j, img, alg, reverse)\n",
    "            for j in range(len(img[0]))\n",
    "        ]    \n",
    "        for i in range(len(img))    \n",
    "    ]\n",
    "    \n",
    "def show(img):\n",
    "    for row in img:\n",
    "        print(' '.join(row))\n",
    "        \n",
    "def dump(img, f):\n",
    "    for row in img:\n",
    "        f.write(' '.join(row))\n",
    "        f.write('\\n')\n",
    "        \n",
    "def calc_lit(img):\n",
    "    return sum(c == '#' for c in chain.from_iterable(img))"
   ]
  },
  {
   "cell_type": "code",
   "execution_count": 177,
   "metadata": {},
   "outputs": [
    {
     "data": {
      "text/plain": [
       "5461"
      ]
     },
     "execution_count": 177,
     "metadata": {},
     "output_type": "execute_result"
    }
   ],
   "source": [
    "with open('day20.txt', 'r') as f:\n",
    "    alg = [*next(f).strip()]\n",
    "    next(f)\n",
    "    img = [\n",
    "        [*line.strip()]\n",
    "        for line in f\n",
    "    ]\n",
    "output_img = enhance(img, alg, padding=1)\n",
    "# show(output_img)\n",
    "# calc_lit(output_img)\n",
    "output_img = enhance(output_img, alg, padding=1, reverse=True)\n",
    "# show(output_img)\n",
    "with open('day20_output.txt', 'w') as f:\n",
    "    dump(output_img, f)\n",
    "calc_lit(output_img)"
   ]
  },
  {
   "cell_type": "code",
   "execution_count": 173,
   "metadata": {},
   "outputs": [
    {
     "data": {
      "text/plain": [
       "18226"
      ]
     },
     "execution_count": 173,
     "metadata": {},
     "output_type": "execute_result"
    }
   ],
   "source": [
    "with open('day20.txt', 'r') as f:\n",
    "    alg = [*next(f).strip()]\n",
    "    next(f)\n",
    "    img = [\n",
    "        [*line.strip()]\n",
    "        for line in f\n",
    "    ]\n",
    "for i in range(50):\n",
    "    img = enhance(img, alg, padding=1, reverse=bool(i % 2))\n",
    "\n",
    "calc_lit(img)"
   ]
  }
 ],
 "metadata": {
  "interpreter": {
   "hash": "0b6ea5cf3e2da3c7841276324063e181e5e9dff87f4d073f77c688a5b383f5e2"
  },
  "kernelspec": {
   "display_name": "Python 3.7.4 64-bit ('base': conda)",
   "language": "python",
   "name": "python3"
  },
  "language_info": {
   "codemirror_mode": {
    "name": "ipython",
    "version": 3
   },
   "file_extension": ".py",
   "mimetype": "text/x-python",
   "name": "python",
   "nbconvert_exporter": "python",
   "pygments_lexer": "ipython3",
   "version": "3.7.4"
  },
  "orig_nbformat": 4
 },
 "nbformat": 4,
 "nbformat_minor": 2
}
