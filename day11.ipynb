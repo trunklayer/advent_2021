{
 "cells": [
  {
   "cell_type": "markdown",
   "metadata": {},
   "source": [
    "# Day 11"
   ]
  },
  {
   "cell_type": "code",
   "execution_count": 11,
   "metadata": {},
   "outputs": [
    {
     "data": {
      "text/plain": [
       "1741"
      ]
     },
     "execution_count": 11,
     "metadata": {},
     "output_type": "execute_result"
    }
   ],
   "source": [
    "def find_new_flashes(lines, known_flashes=set()):\n",
    "    return set(\n",
    "        (i, j)\n",
    "        for i, line in enumerate(lines)\n",
    "        for j, n in enumerate(line)\n",
    "        if ((i, j) not in known_flashes) and (not n)\n",
    "    )\n",
    "\n",
    "def check_index(index, lines):\n",
    "    return (index >= 0) and index < len(lines)\n",
    "\n",
    "def flash(m, n, lines):\n",
    "    for i in range(m-1, m+2):\n",
    "        for j in range(n-1, n+2):\n",
    "            if all(check_index(k, lines) for k in (i, j)) and lines[i][j]:                \n",
    "                lines[i][j] = (lines[i][j] + 1) % 10\n",
    "\n",
    "def tick(lines):\n",
    "    for line in lines:\n",
    "        for j, n in enumerate(line):\n",
    "            line[j] = (n + 1) % 10\n",
    "    known_flashes = set()\n",
    "    while True:\n",
    "        flashes = find_new_flashes(lines, known_flashes)\n",
    "        if not flashes:\n",
    "            break\n",
    "        for m, n in flashes:\n",
    "            flash(m, n, lines)\n",
    "        known_flashes.update(flashes)\n",
    "    return known_flashes\n",
    "\n",
    "with open('day11.txt', 'r') as f:\n",
    "    lines = [\n",
    "        [int(n) for n in line.strip()]\n",
    "        for line in f\n",
    "    ]\n",
    "\n",
    "total_flashes = 0    \n",
    "for _ in range(100):\n",
    "    total_flashes += len(tick(lines))\n",
    "total_flashes"
   ]
  },
  {
   "cell_type": "code",
   "execution_count": 12,
   "metadata": {},
   "outputs": [
    {
     "name": "stdout",
     "output_type": "stream",
     "text": [
      "440\n"
     ]
    }
   ],
   "source": [
    "with open('day11.txt', 'r') as f:\n",
    "    lines = [\n",
    "        [int(n) for n in line.strip()]\n",
    "        for line in f\n",
    "    ]\n",
    "\n",
    "number_of_octopodes = len(lines) * len(lines[0])\n",
    "\n",
    "for i in range(1, 1000):\n",
    "    if len(tick(lines)) == number_of_octopodes:\n",
    "        print(i)\n",
    "        break\n",
    "else:\n",
    "    print('No simultaneous flashes occured during given time period')"
   ]
  }
 ],
 "metadata": {
  "interpreter": {
   "hash": "0b6ea5cf3e2da3c7841276324063e181e5e9dff87f4d073f77c688a5b383f5e2"
  },
  "kernelspec": {
   "display_name": "Python 3.7.4 64-bit ('base': conda)",
   "language": "python",
   "name": "python3"
  },
  "language_info": {
   "codemirror_mode": {
    "name": "ipython",
    "version": 3
   },
   "file_extension": ".py",
   "mimetype": "text/x-python",
   "name": "python",
   "nbconvert_exporter": "python",
   "pygments_lexer": "ipython3",
   "version": "3.7.4"
  },
  "orig_nbformat": 4
 },
 "nbformat": 4,
 "nbformat_minor": 2
}
