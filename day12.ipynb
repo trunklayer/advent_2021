{
 "cells": [
  {
   "cell_type": "markdown",
   "metadata": {},
   "source": [
    "# Day 12"
   ]
  },
  {
   "cell_type": "code",
   "execution_count": 15,
   "metadata": {},
   "outputs": [
    {
     "data": {
      "text/plain": [
       "10"
      ]
     },
     "execution_count": 15,
     "metadata": {},
     "output_type": "execute_result"
    }
   ],
   "source": [
    "from collections import defaultdict\n",
    "\n",
    "def parse_line(line, points):\n",
    "    a, b = line.strip().split('-')\n",
    "    points[a].append(b)\n",
    "    points[b].append(a)\n",
    "    \n",
    "def can_visit(cave, path):\n",
    "    return cave.isupper() or (cave not in path)\n",
    "\n",
    "def advance_path(path, points):\n",
    "    caves = points[path[-1]]\n",
    "    return (\n",
    "        [*path, cave]\n",
    "        for cave in caves\n",
    "        if can_visit(cave, path)\n",
    "    )\n",
    "\n",
    "def advance(paths, points):\n",
    "    new_paths = []\n",
    "    for path in paths:\n",
    "        new_paths.extend(advance_path(path, points))\n",
    "    return new_paths\n",
    "\n",
    "def find_paths(points):\n",
    "    complete_paths = []\n",
    "    incomplete_paths = [['start']]\n",
    "    while incomplete_paths:\n",
    "        paths = advance(incomplete_paths, points)\n",
    "        # print(paths)\n",
    "        incomplete_paths = []\n",
    "        for path in paths:\n",
    "            if path[-1] == 'end':\n",
    "                complete_paths.append(path)\n",
    "            else:\n",
    "                incomplete_paths.append(path)\n",
    "    return complete_paths\n",
    "        \n",
    "\n",
    "points = defaultdict(list)\n",
    "\n",
    "with open('day12.txt', 'r') as f:\n",
    "    for line in f:\n",
    "        parse_line(line, points)\n",
    "\n",
    "paths = find_paths(points)\n",
    "len(paths)"
   ]
  },
  {
   "cell_type": "markdown",
   "metadata": {},
   "source": [
    "[]\n",
    "[[start, A], [start, b]]\n",
    "[\n",
    "    [start, A, b], [start, A, c], [start, A, end],\n",
    "    [start, b, A], [start, b, d], [start, B, end]\n",
    "]"
   ]
  },
  {
   "cell_type": "code",
   "execution_count": 8,
   "metadata": {},
   "outputs": [
    {
     "data": {
      "text/plain": [
       "[1, 4, 9]"
      ]
     },
     "execution_count": 8,
     "metadata": {},
     "output_type": "execute_result"
    }
   ],
   "source": [
    "arr = []\n",
    "arr.extend(i ** 2 for i in range(1, 4))\n",
    "arr"
   ]
  }
 ],
 "metadata": {
  "interpreter": {
   "hash": "0b6ea5cf3e2da3c7841276324063e181e5e9dff87f4d073f77c688a5b383f5e2"
  },
  "kernelspec": {
   "display_name": "Python 3.7.4 64-bit ('base': conda)",
   "language": "python",
   "name": "python3"
  },
  "language_info": {
   "codemirror_mode": {
    "name": "ipython",
    "version": 3
   },
   "file_extension": ".py",
   "mimetype": "text/x-python",
   "name": "python",
   "nbconvert_exporter": "python",
   "pygments_lexer": "ipython3",
   "version": "3.7.4"
  },
  "orig_nbformat": 4
 },
 "nbformat": 4,
 "nbformat_minor": 2
}
