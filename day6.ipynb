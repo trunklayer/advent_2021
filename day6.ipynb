{
 "cells": [
  {
   "cell_type": "markdown",
   "metadata": {},
   "source": [
    "# Day 6"
   ]
  },
  {
   "cell_type": "code",
   "execution_count": 1,
   "metadata": {},
   "outputs": [
    {
     "data": {
      "text/plain": [
       "1732821262171"
      ]
     },
     "execution_count": 1,
     "metadata": {},
     "output_type": "execute_result"
    }
   ],
   "source": [
    "from collections import Counter\n",
    "\n",
    "def pass_day(fishes):\n",
    "    n = fishes[0]\n",
    "    fishes[0] = 0\n",
    "    for i in range(1, 9):        \n",
    "        fishes[i-1] += fishes[i]\n",
    "        fishes[i] = 0\n",
    "    fishes[8] += n\n",
    "    fishes[6] += n\n",
    "    \n",
    "def pass_days(days, fishes):\n",
    "    for _ in range(days):\n",
    "        pass_day(fishes)\n",
    "\n",
    "with open('day6.txt', 'r') as f:\n",
    "    fishes = [int(x) for x in f.read().strip().split(',')]\n",
    "\n",
    "fishes = Counter(fishes)\n",
    "pass_days(256, fishes)\n",
    "sum(fishes.values())"
   ]
  }
 ],
 "metadata": {
  "interpreter": {
   "hash": "0b6ea5cf3e2da3c7841276324063e181e5e9dff87f4d073f77c688a5b383f5e2"
  },
  "kernelspec": {
   "display_name": "Python 3.7.4 64-bit ('base': conda)",
   "language": "python",
   "name": "python3"
  },
  "language_info": {
   "codemirror_mode": {
    "name": "ipython",
    "version": 3
   },
   "file_extension": ".py",
   "mimetype": "text/x-python",
   "name": "python",
   "nbconvert_exporter": "python",
   "pygments_lexer": "ipython3",
   "version": "3.7.4"
  },
  "orig_nbformat": 4
 },
 "nbformat": 4,
 "nbformat_minor": 2
}
